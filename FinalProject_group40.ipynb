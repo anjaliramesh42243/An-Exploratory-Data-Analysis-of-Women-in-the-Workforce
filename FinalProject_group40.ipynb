{
 "cells": [
  {
   "cell_type": "markdown",
   "metadata": {},
   "source": [
    "# COGS 108 - Final Project"
   ]
  },
  {
   "cell_type": "markdown",
   "metadata": {},
   "source": [
    "## Permissions"
   ]
  },
  {
   "cell_type": "markdown",
   "metadata": {},
   "source": [
    "- [X] YES - make available\n",
    "- [ ] NO - keep private"
   ]
  },
  {
   "cell_type": "markdown",
   "metadata": {},
   "source": [
    "## Overview"
   ]
  },
  {
   "cell_type": "markdown",
   "metadata": {},
   "source": [
    " \n"
   ]
  },
  {
   "cell_type": "markdown",
   "metadata": {},
   "source": [
    "## Names"
   ]
  },
  {
   "cell_type": "markdown",
   "metadata": {},
   "source": [
    "- Gaurika Duvur\n",
    "- Anjali Ramesh\n",
    "- Apurwa Shukla\n",
    "- Vicky Vo"
   ]
  },
  {
   "cell_type": "markdown",
   "metadata": {},
   "source": [
    "## Group Members IDs"
   ]
  },
  {
   "cell_type": "markdown",
   "metadata": {},
   "source": [
    "- A14461573\n",
    "- A15524912\n",
    "- A14024123\n",
    "- A13950829"
   ]
  },
  {
   "cell_type": "markdown",
   "metadata": {},
   "source": [
    "## Research Question"
   ]
  },
  {
   "cell_type": "markdown",
   "metadata": {},
   "source": [
    "What industry can we predict will have an increase in female workers based on the following factors: females in management/administrative positions, income gap between males and females, and maternity leave policies?"
   ]
  },
  {
   "cell_type": "markdown",
   "metadata": {},
   "source": [
    "## Background and Prior Work"
   ]
  },
  {
   "cell_type": "markdown",
   "metadata": {},
   "source": [
    "  This topic is of interest to our group because, as female students preparing to enter the workforce, particularly in male dominated STEM fields, we have noticed the increased attention on the disparity between male and female workers throughout industries, and factors that contribute to this gap. Since there are certain states that are better than others when it comes to wage disparity and earnings, there must also be certain industries that are more beneficial for women (3). We wanted to learn more about the components that affect a woman’s success in a specific field in order to be able to predict the industries that are the most profitable for women today. \n",
    "\n",
    "   There has been research done on different aspects of female employment, such as income, paid and unpaid leave, socioeconomic status, and education. With regards to COGS 108 in particular, there is a project focusing on the effect of maternity leave on female involvement in the workforce, which takes into consideration aspects of our research question (1). The results of this project conclude that there was a stronger effect of maternity leave on female participation in the workforce than participation on maternity leave. Another project describes policies surrounding acceptance rates of women in STEM careers and whether or not these policies are fair (2). This project shows that there is not much of an inequality between hiring rates of men and women in STEM fields, and that the proportion of men and women working in these fields is fairly equal. Both these projects use data that could be useful to answering our research question. \n",
    "    \n",
    "    \n",
    "References (include links):\n",
    "1. https://github.com/COGS108/FinalProjects-Wi20/blob/master/FinalProject_group069.ipynb\n",
    "2. https://github.com/COGS108/FinalProjects-Wi20/blob/master/FinalProject_group093.ipynb"
   ]
  },
  {
   "cell_type": "markdown",
   "metadata": {},
   "source": [
    "## Hypothesis"
   ]
  },
  {
   "cell_type": "markdown",
   "metadata": {},
   "source": [
    "## Datasets\n"
   ]
  },
  {
   "cell_type": "markdown",
   "metadata": {},
   "source": [
    "The ideal dataset would include the proportion of the labor force in that occupation that are women, their average income in that industry (as well as how that income differs between male and female workers), and the average number of weeks of paid maternity leave offered in that industry.\n"
   ]
  },
  {
   "cell_type": "markdown",
   "metadata": {},
   "source": [
    "### Dataset 1"
   ]
  },
  {
   "cell_type": "markdown",
   "metadata": {},
   "source": [
    "Name: Proportion of women in managerial positions\n",
    "\n",
    "Link: https://genderstats.un.org/#/downloads\n",
    "\n",
    "Configuration: Indicator name, Country Code, Region, Year, Sex, Age, Location, Occupation, Value, Lower Bound, Upper Bound, Unit, Nature Data, Origin Data, Footnote 1, Footnote 2 (this data must be cleaned appropriately before use)\n",
    "\n",
    "Number of observations: 1908\n",
    "\n",
    "Description: The United Nations provides data on the percentage of women in senior and middle management positions in various countries around the world. (For the purposes of this analysis, we will be focusing on the United States.)\n"
   ]
  },
  {
   "cell_type": "markdown",
   "metadata": {},
   "source": [
    "### Dataset 2"
   ]
  },
  {
   "cell_type": "markdown",
   "metadata": {},
   "source": [
    "Name: Proportion of women in senior and middle management positions\n",
    "\n",
    "Link: https://genderstats.un.org/#/downloads\n",
    "\n",
    "Configuration: Indicator name, Country Code, Region, Year, Sex, Age, Location, Occupation, Value, Lower Bound, Upper Bound, Unit, Nature Data, Origin Data, Footnote 1, Footnote 2 (this data must be cleaned appropriately before use)\n",
    "\n",
    "Number of observations: 427\n",
    "\n",
    "Description: The United Nations provides data on the proportion of women in senior and middle management positiosn around the world. (For the purposes of this analysis, we will be focusing on the United States.)"
   ]
  },
  {
   "cell_type": "markdown",
   "metadata": {},
   "source": [
    "### Dataset 3"
   ]
  },
  {
   "cell_type": "markdown",
   "metadata": {},
   "source": [
    "Name: \n",
    "\n",
    "Link: https://www.kaggle.com/jonavery/notebook?select=inc_occ_gender.csv\n",
    "\n",
    "Configuration: These are the categories the data is divided into\n",
    "- Occupation: Job title as given from BLS. Industry summaries are given in ALL CAPS.\n",
    "- All_workers: Number of workers male and female, in thousands.\n",
    "- All_weekly: Median weekly income including male and female workers, in USD.\n",
    "- M_workers: Number of male workers, in thousands.\n",
    "- M_weekly: Median weekly income for male workers, in USD.\n",
    "- F_workers: Number of female workers, in thousands.\n",
    "- F_weekly: Median weekly income for female workers, in USD.\n",
    "\n",
    "Number of observations: __________\n",
    "\n",
    "Description: The dataset on US incomes by occupation and gender provides data on median weekly income of male and female in 535 different occupations. This dataset has been retrieved from the bureau of labor statistics."
   ]
  },
  {
   "cell_type": "markdown",
   "metadata": {},
   "source": [
    "### Dataset 4"
   ]
  },
  {
   "cell_type": "markdown",
   "metadata": {},
   "source": [
    "Name: _______\n",
    "\n",
    "Link: ______\n",
    "\n",
    "Configuration: _______\n",
    "\n",
    "Number of observations: 965\n",
    "\n",
    "Description: _____"
   ]
  },
  {
   "cell_type": "markdown",
   "metadata": {},
   "source": [
    "## Setup"
   ]
  },
  {
   "cell_type": "code",
   "execution_count": 3,
   "metadata": {},
   "outputs": [],
   "source": [
    "%matplotlib inline\n",
    "\n",
    "# Import libraries\n",
    "import numpy as np\n",
    "import pandas as pd\n",
    "\n",
    "import seaborn as sns; sns.set()\n",
    "import matplotlib.pyplot as plt\n",
    "import statsmodels.api as sm\n",
    "import patsy"
   ]
  },
  {
   "cell_type": "markdown",
   "metadata": {},
   "source": [
    "## Data Cleaning"
   ]
  },
  {
   "cell_type": "markdown",
   "metadata": {},
   "source": [
    "### Datasets 1 and 2"
   ]
  },
  {
   "cell_type": "markdown",
   "metadata": {},
   "source": [
    "In order to clean these datasets, I had to take out all the unneeded columns that contained information that I didn't need to use. Since these datasets are sourced from the United Nations, I had to choose only the data from the United States, since this was the part of the data that we were interested in. I also took out all the null values and empty columns that did not add valuable information to my analysis. "
   ]
  },
  {
   "cell_type": "code",
   "execution_count": null,
   "metadata": {},
   "outputs": [],
   "source": [
    "sns.set(rc={'figure.figsize':(11.7,8.27)})"
   ]
  },
  {
   "cell_type": "code",
   "execution_count": null,
   "metadata": {},
   "outputs": [],
   "source": [
    "df_management = pd.read_csv(\"managerialpostions.csv\")\n",
    "df_management.head()\n",
    "df_management_us = df_management[df_management.Country == \"United States of America\"]"
   ]
  },
  {
   "cell_type": "code",
   "execution_count": null,
   "metadata": {},
   "outputs": [],
   "source": [
    "df_senior = pd.read_csv(\"senior_management_positions.csv\")\n",
    "df_senior_us = df_senior[df_senior.Country == \"United States of America\"]"
   ]
  },
  {
   "cell_type": "code",
   "execution_count": null,
   "metadata": {},
   "outputs": [],
   "source": [
    "df_management_us = df_management_us.drop(columns =[\"Age\", \"Location\", \"Occupation\", \"LowerBound\", \"UpperBound\", \"OriginData\", \"Footnote1\", \"Footnote2\"]) \n",
    "df_management_us.head()"
   ]
  },
  {
   "cell_type": "code",
   "execution_count": null,
   "metadata": {},
   "outputs": [],
   "source": [
    "df_senior_us = df_senior_us.drop(columns = [\"Age\", \"Location\", \"Occupation\", \"LowerBound\", \"UpperBound\", \"OriginData\", \"Footnote1\", \"Footnote2\", \"Footnote3\", \"Footnote4\", \"Footnote5\", \"Footnote6\", \"Coverage\"]) \n",
    "df_senior_us.head()"
   ]
  },
  {
   "cell_type": "code",
   "execution_count": null,
   "metadata": {},
   "outputs": [],
   "source": [
    "df_manage = pd.concat([df_management_us, df_senior_us], ignore_index=True)\n",
    "df_manage = df_manage.replace({'Indicator Name': \"Proportion of women in senior and middle management positions\"}, \"Proportion of women in managerial positions\")\n",
    "df_manage = df_manage.sort_values('Year')\n",
    "df_manage = df_manage.reset_index(drop=True)\n",
    "df_manage.head()"
   ]
  },
  {
   "cell_type": "markdown",
   "metadata": {},
   "source": [
    "## Data Analysis & Results"
   ]
  },
  {
   "cell_type": "markdown",
   "metadata": {},
   "source": [
    "### Datasets 1 and 2"
   ]
  },
  {
   "cell_type": "code",
   "execution_count": null,
   "metadata": {},
   "outputs": [],
   "source": [
    "df_manage.describe()"
   ]
  },
  {
   "cell_type": "markdown",
   "metadata": {},
   "source": [
    "This chart shows the basic description of the proportion of women in management positions over the course of 17 years. We can ignore the \"Country Code\" and \"Year\" column, as those are not the variables that we want to describe. When we look at the statistical description of the column \"Value\", we can see that the smallest proportion of women was 35.5% in the year 2000, and that this percentage has increased to 40.5% in the year 2017. "
   ]
  },
  {
   "cell_type": "code",
   "execution_count": null,
   "metadata": {},
   "outputs": [],
   "source": [
    "ax = sns.scatterplot(x=\"Year\", y=\"Value\", data=df_manage)\n",
    "ax.set_title(\"Proportion of Women in Management Positions from 2000 to 2017\")"
   ]
  },
  {
   "cell_type": "markdown",
   "metadata": {},
   "source": [
    "From this inital scatterplot created by plotting the proportion of women in management positions versus the year of the observation, we can already tell that there is a strong positive relationship between these two variables. \n",
    "\n",
    "However, to be sure of this, we can go on to perform a linear regression analysis to find out the strength of this relationship.\n",
    "\n",
    "The type of linear regression that we will be performing is an Ordinary Least Squares analysis, which means that we are fitting a regression line that would minimize the square of distance from the regression line."
   ]
  },
  {
   "cell_type": "code",
   "execution_count": null,
   "metadata": {},
   "outputs": [],
   "source": [
    "# X, or the year, is the independent variable, and Y, or the value/proportion of women, is the dependent value.\n",
    "X = df_manage[\"Year\"]\n",
    "y = df_manage[\"Value\"]\n",
    "\n",
    "# this carries out the Ordinary Least Squares analysis\n",
    "model = sm.OLS(y, X).fit()\n",
    "predictions = model.predict(X) # make the predictions by the model\n",
    "\n",
    "# Print out the statistics\n",
    "p = model.params\n",
    "model.summary()\n"
   ]
  },
  {
   "cell_type": "markdown",
   "metadata": {},
   "source": [
    "This table shows the coefficient of this regression to be 0.0190. This means that as the Year variable increases by 1, there will be a 0.0190 increase in the proportion of women in management positions. We can interpret this to mean that the proportion of women in management positions increases by around 1.9% each year. This trend has held steady from the year 2000.\n",
    "\n",
    "Based on this output, we can see that the R-squared value is 0.999, meaning that this model explains 99.9% of the variance in the proportion of women in management positions."
   ]
  },
  {
   "cell_type": "markdown",
   "metadata": {},
   "source": [
    "#### Visualizing Linear Regression"
   ]
  },
  {
   "cell_type": "code",
   "execution_count": null,
   "metadata": {},
   "outputs": [],
   "source": [
    "df = pd.DataFrame(df_manage, columns=['Year', 'Value'])\n",
    "\n",
    "#Check correlation between Year and Value\n",
    "df.corr()\n"
   ]
  },
  {
   "cell_type": "code",
   "execution_count": null,
   "metadata": {},
   "outputs": [],
   "source": [
    "sns.set_style('whitegrid') \n",
    "g = sns.lmplot(x='Year', y='Value', data=df_manage)\n",
    "g.fig.set_size_inches(10,10)"
   ]
  },
  {
   "cell_type": "code",
   "execution_count": null,
   "metadata": {},
   "outputs": [],
   "source": [
    "type(predictions)"
   ]
  },
  {
   "cell_type": "code",
   "execution_count": null,
   "metadata": {},
   "outputs": [],
   "source": [
    "print(predictions.to_string())"
   ]
  },
  {
   "cell_type": "markdown",
   "metadata": {},
   "source": [
    "This list of predictions shows the predicted proportion of women in management in the coming years. This is based on the model that we fitted using the Ordinary Least Squares analysis, and shows the results for up to the next 35 years.\n",
    "\n",
    "For example, one way to interpret these predictions would be to say that in 5 years from 2017, or in 2022, the predicted percentage of women in senior and middle management positions would be around 38.03%. This shows the gradual increase in the proportion of women with the passing of time.\n",
    "\n",
    "However, there are some confounding factors that might have contributed to a skewed analaysis of these two variables. This could have been bias in the women that were observed, they might have all been chosen from the same industry, which could have been one that had a higher or lower than average proportion of women in management. Also, the definition of \"management positions\" could have too specific to generalize over an entire workforce of women, or maybe too general.\n",
    "\n",
    "With these preliminary results, I conclude that there has been a steady increase in the proportion of women in the workforce over the last 20 or so years, but there is still a long way to go before women make up 50% of people in management positions."
   ]
  },
  {
   "cell_type": "markdown",
   "metadata": {},
   "source": [
    "## Ethics and Privacy"
   ]
  },
  {
   "cell_type": "markdown",
   "metadata": {},
   "source": [
    "The data that we used was either public and/or licensed, so we had the right to access it. Also, the identity of the participants was not disclosed. If this was an issue in our data, it would have violated the basic confidentiality of the participants, and also violated the basic rules of ethics in data science. We did this using the Safe Harbour Method, which requires that specific identifiers such as telephone numbers, vehicle identifiers, and email addresses are removed from the data. This was somewhat simple to do, since the websites we got our data from were already available for public use. \n",
    "\n",
    "\n",
    "We do acknowledge that there might have been some bias in the maternity leave data from FairyGodBoss,  since it is crowdsourced data and may be inaccurate. There may have also been racial bias within the data that we were not able to detect due to the identities being unknown. Since adding race as a factor might somewhat skew the dataset or show evidence of a confounding variable, we chose to forego this as a variable. The factors we have chosen to identify an ideal work industry were subjective and might not be what others would have considered ideal factors. We acknowledge these biases and keep them in mind before concluding generalizations. \n"
   ]
  },
  {
   "cell_type": "markdown",
   "metadata": {},
   "source": [
    "## Conclusion and Discussion"
   ]
  },
  {
   "cell_type": "markdown",
   "metadata": {},
   "source": [
    "## Team Contributions"
   ]
  },
  {
   "cell_type": "markdown",
   "metadata": {},
   "source": []
  }
 ],
 "metadata": {
  "kernelspec": {
   "display_name": "Python 3",
   "language": "python",
   "name": "python3"
  },
  "language_info": {
   "codemirror_mode": {
    "name": "ipython",
    "version": 3
   },
   "file_extension": ".py",
   "mimetype": "text/x-python",
   "name": "python",
   "nbconvert_exporter": "python",
   "pygments_lexer": "ipython3",
   "version": "3.6.7"
  }
 },
 "nbformat": 4,
 "nbformat_minor": 2
}

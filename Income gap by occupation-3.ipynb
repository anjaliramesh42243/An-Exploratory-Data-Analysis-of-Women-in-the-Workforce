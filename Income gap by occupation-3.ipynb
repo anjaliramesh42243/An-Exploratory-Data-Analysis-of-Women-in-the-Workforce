{
 "cells": [
  {
   "cell_type": "code",
   "execution_count": 107,
   "metadata": {},
   "outputs": [],
   "source": [
    "import pandas as pd\n",
    "import numpy as np"
   ]
  },
  {
   "cell_type": "code",
   "execution_count": 108,
   "metadata": {},
   "outputs": [],
   "source": [
    "df = pd.read_csv('inc_occ_gender.csv')"
   ]
  },
  {
   "cell_type": "code",
   "execution_count": 109,
   "metadata": {},
   "outputs": [
    {
     "data": {
      "text/html": [
       "<div>\n",
       "<style scoped>\n",
       "    .dataframe tbody tr th:only-of-type {\n",
       "        vertical-align: middle;\n",
       "    }\n",
       "\n",
       "    .dataframe tbody tr th {\n",
       "        vertical-align: top;\n",
       "    }\n",
       "\n",
       "    .dataframe thead th {\n",
       "        text-align: right;\n",
       "    }\n",
       "</style>\n",
       "<table border=\"1\" class=\"dataframe\">\n",
       "  <thead>\n",
       "    <tr style=\"text-align: right;\">\n",
       "      <th></th>\n",
       "      <th>Occupation</th>\n",
       "      <th>All_workers</th>\n",
       "      <th>All_weekly</th>\n",
       "      <th>M_workers</th>\n",
       "      <th>M_weekly</th>\n",
       "      <th>F_workers</th>\n",
       "      <th>F_weekly</th>\n",
       "    </tr>\n",
       "  </thead>\n",
       "  <tbody>\n",
       "    <tr>\n",
       "      <th>0</th>\n",
       "      <td>ALL OCCUPATIONS</td>\n",
       "      <td>109080</td>\n",
       "      <td>809</td>\n",
       "      <td>60746</td>\n",
       "      <td>895</td>\n",
       "      <td>48334</td>\n",
       "      <td>726</td>\n",
       "    </tr>\n",
       "    <tr>\n",
       "      <th>1</th>\n",
       "      <td>MANAGEMENT</td>\n",
       "      <td>12480</td>\n",
       "      <td>1351</td>\n",
       "      <td>7332</td>\n",
       "      <td>1486</td>\n",
       "      <td>5147</td>\n",
       "      <td>1139</td>\n",
       "    </tr>\n",
       "    <tr>\n",
       "      <th>2</th>\n",
       "      <td>Chief executives</td>\n",
       "      <td>1046</td>\n",
       "      <td>2041</td>\n",
       "      <td>763</td>\n",
       "      <td>2251</td>\n",
       "      <td>283</td>\n",
       "      <td>1836</td>\n",
       "    </tr>\n",
       "    <tr>\n",
       "      <th>3</th>\n",
       "      <td>General and operations managers</td>\n",
       "      <td>823</td>\n",
       "      <td>1260</td>\n",
       "      <td>621</td>\n",
       "      <td>1347</td>\n",
       "      <td>202</td>\n",
       "      <td>1002</td>\n",
       "    </tr>\n",
       "    <tr>\n",
       "      <th>4</th>\n",
       "      <td>Legislators</td>\n",
       "      <td>8</td>\n",
       "      <td>Na</td>\n",
       "      <td>5</td>\n",
       "      <td>Na</td>\n",
       "      <td>4</td>\n",
       "      <td>Na</td>\n",
       "    </tr>\n",
       "    <tr>\n",
       "      <th>...</th>\n",
       "      <td>...</td>\n",
       "      <td>...</td>\n",
       "      <td>...</td>\n",
       "      <td>...</td>\n",
       "      <td>...</td>\n",
       "      <td>...</td>\n",
       "      <td>...</td>\n",
       "    </tr>\n",
       "    <tr>\n",
       "      <th>553</th>\n",
       "      <td>Pumping station operators</td>\n",
       "      <td>18</td>\n",
       "      <td>Na</td>\n",
       "      <td>17</td>\n",
       "      <td>Na</td>\n",
       "      <td>1</td>\n",
       "      <td>Na</td>\n",
       "    </tr>\n",
       "    <tr>\n",
       "      <th>554</th>\n",
       "      <td>Refuse and recyclable material collectors</td>\n",
       "      <td>72</td>\n",
       "      <td>501</td>\n",
       "      <td>66</td>\n",
       "      <td>496</td>\n",
       "      <td>6</td>\n",
       "      <td>Na</td>\n",
       "    </tr>\n",
       "    <tr>\n",
       "      <th>555</th>\n",
       "      <td>Mine shuttle car operators</td>\n",
       "      <td>0</td>\n",
       "      <td>Na</td>\n",
       "      <td>0</td>\n",
       "      <td>Na</td>\n",
       "      <td>0</td>\n",
       "      <td>Na</td>\n",
       "    </tr>\n",
       "    <tr>\n",
       "      <th>556</th>\n",
       "      <td>Tank car, truck, and ship loaders</td>\n",
       "      <td>6</td>\n",
       "      <td>Na</td>\n",
       "      <td>6</td>\n",
       "      <td>Na</td>\n",
       "      <td>0</td>\n",
       "      <td>Na</td>\n",
       "    </tr>\n",
       "    <tr>\n",
       "      <th>557</th>\n",
       "      <td>Material moving workers, all other</td>\n",
       "      <td>37</td>\n",
       "      <td>Na</td>\n",
       "      <td>32</td>\n",
       "      <td>Na</td>\n",
       "      <td>5</td>\n",
       "      <td>Na</td>\n",
       "    </tr>\n",
       "  </tbody>\n",
       "</table>\n",
       "<p>558 rows × 7 columns</p>\n",
       "</div>"
      ],
      "text/plain": [
       "                                    Occupation  All_workers All_weekly  \\\n",
       "0                              ALL OCCUPATIONS       109080        809   \n",
       "1                                   MANAGEMENT        12480       1351   \n",
       "2                             Chief executives         1046       2041   \n",
       "3              General and operations managers          823       1260   \n",
       "4                                  Legislators            8         Na   \n",
       "..                                         ...          ...        ...   \n",
       "553                  Pumping station operators           18         Na   \n",
       "554  Refuse and recyclable material collectors           72        501   \n",
       "555                 Mine shuttle car operators            0         Na   \n",
       "556          Tank car, truck, and ship loaders            6         Na   \n",
       "557         Material moving workers, all other           37         Na   \n",
       "\n",
       "     M_workers M_weekly  F_workers F_weekly  \n",
       "0        60746      895      48334      726  \n",
       "1         7332     1486       5147     1139  \n",
       "2          763     2251        283     1836  \n",
       "3          621     1347        202     1002  \n",
       "4            5       Na          4       Na  \n",
       "..         ...      ...        ...      ...  \n",
       "553         17       Na          1       Na  \n",
       "554         66      496          6       Na  \n",
       "555          0       Na          0       Na  \n",
       "556          6       Na          0       Na  \n",
       "557         32       Na          5       Na  \n",
       "\n",
       "[558 rows x 7 columns]"
      ]
     },
     "execution_count": 109,
     "metadata": {},
     "output_type": "execute_result"
    }
   ],
   "source": [
    "df"
   ]
  },
  {
   "cell_type": "code",
   "execution_count": 110,
   "metadata": {},
   "outputs": [],
   "source": [
    "df = df[df[\"M_weekly\"]!=\"Na\"]\n",
    "df = df.reset_index()\n"
   ]
  },
  {
   "cell_type": "code",
   "execution_count": 111,
   "metadata": {},
   "outputs": [
    {
     "data": {
      "text/html": [
       "<div>\n",
       "<style scoped>\n",
       "    .dataframe tbody tr th:only-of-type {\n",
       "        vertical-align: middle;\n",
       "    }\n",
       "\n",
       "    .dataframe tbody tr th {\n",
       "        vertical-align: top;\n",
       "    }\n",
       "\n",
       "    .dataframe thead th {\n",
       "        text-align: right;\n",
       "    }\n",
       "</style>\n",
       "<table border=\"1\" class=\"dataframe\">\n",
       "  <thead>\n",
       "    <tr style=\"text-align: right;\">\n",
       "      <th></th>\n",
       "      <th>index</th>\n",
       "      <th>Occupation</th>\n",
       "      <th>All_workers</th>\n",
       "      <th>All_weekly</th>\n",
       "      <th>M_workers</th>\n",
       "      <th>M_weekly</th>\n",
       "      <th>F_workers</th>\n",
       "      <th>F_weekly</th>\n",
       "    </tr>\n",
       "  </thead>\n",
       "  <tbody>\n",
       "    <tr>\n",
       "      <th>0</th>\n",
       "      <td>0</td>\n",
       "      <td>ALL OCCUPATIONS</td>\n",
       "      <td>109080</td>\n",
       "      <td>809</td>\n",
       "      <td>60746</td>\n",
       "      <td>895</td>\n",
       "      <td>48334</td>\n",
       "      <td>726</td>\n",
       "    </tr>\n",
       "    <tr>\n",
       "      <th>1</th>\n",
       "      <td>1</td>\n",
       "      <td>MANAGEMENT</td>\n",
       "      <td>12480</td>\n",
       "      <td>1351</td>\n",
       "      <td>7332</td>\n",
       "      <td>1486</td>\n",
       "      <td>5147</td>\n",
       "      <td>1139</td>\n",
       "    </tr>\n",
       "    <tr>\n",
       "      <th>2</th>\n",
       "      <td>2</td>\n",
       "      <td>Chief executives</td>\n",
       "      <td>1046</td>\n",
       "      <td>2041</td>\n",
       "      <td>763</td>\n",
       "      <td>2251</td>\n",
       "      <td>283</td>\n",
       "      <td>1836</td>\n",
       "    </tr>\n",
       "    <tr>\n",
       "      <th>3</th>\n",
       "      <td>3</td>\n",
       "      <td>General and operations managers</td>\n",
       "      <td>823</td>\n",
       "      <td>1260</td>\n",
       "      <td>621</td>\n",
       "      <td>1347</td>\n",
       "      <td>202</td>\n",
       "      <td>1002</td>\n",
       "    </tr>\n",
       "    <tr>\n",
       "      <th>4</th>\n",
       "      <td>6</td>\n",
       "      <td>Marketing and sales managers</td>\n",
       "      <td>948</td>\n",
       "      <td>1462</td>\n",
       "      <td>570</td>\n",
       "      <td>1603</td>\n",
       "      <td>378</td>\n",
       "      <td>1258</td>\n",
       "    </tr>\n",
       "    <tr>\n",
       "      <th>...</th>\n",
       "      <td>...</td>\n",
       "      <td>...</td>\n",
       "      <td>...</td>\n",
       "      <td>...</td>\n",
       "      <td>...</td>\n",
       "      <td>...</td>\n",
       "      <td>...</td>\n",
       "      <td>...</td>\n",
       "    </tr>\n",
       "    <tr>\n",
       "      <th>227</th>\n",
       "      <td>548</td>\n",
       "      <td>Industrial truck and tractor operators</td>\n",
       "      <td>579</td>\n",
       "      <td>609</td>\n",
       "      <td>541</td>\n",
       "      <td>612</td>\n",
       "      <td>37</td>\n",
       "      <td>Na</td>\n",
       "    </tr>\n",
       "    <tr>\n",
       "      <th>228</th>\n",
       "      <td>549</td>\n",
       "      <td>Cleaners of vehicles and equipment</td>\n",
       "      <td>222</td>\n",
       "      <td>485</td>\n",
       "      <td>200</td>\n",
       "      <td>498</td>\n",
       "      <td>22</td>\n",
       "      <td>Na</td>\n",
       "    </tr>\n",
       "    <tr>\n",
       "      <th>229</th>\n",
       "      <td>550</td>\n",
       "      <td>Laborers and freight, stock, and material move...</td>\n",
       "      <td>1433</td>\n",
       "      <td>526</td>\n",
       "      <td>1214</td>\n",
       "      <td>547</td>\n",
       "      <td>219</td>\n",
       "      <td>455</td>\n",
       "    </tr>\n",
       "    <tr>\n",
       "      <th>230</th>\n",
       "      <td>552</td>\n",
       "      <td>Packers and packagers, hand</td>\n",
       "      <td>385</td>\n",
       "      <td>438</td>\n",
       "      <td>158</td>\n",
       "      <td>462</td>\n",
       "      <td>227</td>\n",
       "      <td>424</td>\n",
       "    </tr>\n",
       "    <tr>\n",
       "      <th>231</th>\n",
       "      <td>554</td>\n",
       "      <td>Refuse and recyclable material collectors</td>\n",
       "      <td>72</td>\n",
       "      <td>501</td>\n",
       "      <td>66</td>\n",
       "      <td>496</td>\n",
       "      <td>6</td>\n",
       "      <td>Na</td>\n",
       "    </tr>\n",
       "  </tbody>\n",
       "</table>\n",
       "<p>232 rows × 8 columns</p>\n",
       "</div>"
      ],
      "text/plain": [
       "     index                                         Occupation  All_workers  \\\n",
       "0        0                                    ALL OCCUPATIONS       109080   \n",
       "1        1                                         MANAGEMENT        12480   \n",
       "2        2                                   Chief executives         1046   \n",
       "3        3                    General and operations managers          823   \n",
       "4        6                       Marketing and sales managers          948   \n",
       "..     ...                                                ...          ...   \n",
       "227    548             Industrial truck and tractor operators          579   \n",
       "228    549                 Cleaners of vehicles and equipment          222   \n",
       "229    550  Laborers and freight, stock, and material move...         1433   \n",
       "230    552                        Packers and packagers, hand          385   \n",
       "231    554          Refuse and recyclable material collectors           72   \n",
       "\n",
       "    All_weekly  M_workers M_weekly  F_workers F_weekly  \n",
       "0          809      60746      895      48334      726  \n",
       "1         1351       7332     1486       5147     1139  \n",
       "2         2041        763     2251        283     1836  \n",
       "3         1260        621     1347        202     1002  \n",
       "4         1462        570     1603        378     1258  \n",
       "..         ...        ...      ...        ...      ...  \n",
       "227        609        541      612         37       Na  \n",
       "228        485        200      498         22       Na  \n",
       "229        526       1214      547        219      455  \n",
       "230        438        158      462        227      424  \n",
       "231        501         66      496          6       Na  \n",
       "\n",
       "[232 rows x 8 columns]"
      ]
     },
     "execution_count": 111,
     "metadata": {},
     "output_type": "execute_result"
    }
   ],
   "source": [
    "df = df[df.M_workers != 'Na']\n",
    "df"
   ]
  },
  {
   "cell_type": "code",
   "execution_count": 112,
   "metadata": {},
   "outputs": [],
   "source": [
    "df = df[df.F_workers != 'Na']"
   ]
  },
  {
   "cell_type": "code",
   "execution_count": 113,
   "metadata": {},
   "outputs": [],
   "source": [
    "df = df[df.All_weekly != 'Na']"
   ]
  },
  {
   "cell_type": "code",
   "execution_count": 114,
   "metadata": {},
   "outputs": [
    {
     "data": {
      "text/plain": [
       "(232, 8)"
      ]
     },
     "execution_count": 114,
     "metadata": {},
     "output_type": "execute_result"
    }
   ],
   "source": [
    "df.shape"
   ]
  },
  {
   "cell_type": "code",
   "execution_count": 115,
   "metadata": {},
   "outputs": [],
   "source": [
    "df = df[df.M_weekly != 'Na']"
   ]
  },
  {
   "cell_type": "code",
   "execution_count": 116,
   "metadata": {},
   "outputs": [],
   "source": [
    "df = df[df.F_weekly != 'Na']"
   ]
  },
  {
   "cell_type": "code",
   "execution_count": 117,
   "metadata": {},
   "outputs": [
    {
     "data": {
      "text/plain": [
       "(142, 8)"
      ]
     },
     "execution_count": 117,
     "metadata": {},
     "output_type": "execute_result"
    }
   ],
   "source": [
    "df.shape"
   ]
  },
  {
   "cell_type": "code",
   "execution_count": 118,
   "metadata": {},
   "outputs": [],
   "source": [
    "df['M_weekly'] = pd.to_numeric(df['M_weekly'])\n",
    "df['F_weekly'] = pd.to_numeric(df['F_weekly'])"
   ]
  },
  {
   "cell_type": "code",
   "execution_count": 119,
   "metadata": {},
   "outputs": [
    {
     "data": {
      "text/html": [
       "<div>\n",
       "<style scoped>\n",
       "    .dataframe tbody tr th:only-of-type {\n",
       "        vertical-align: middle;\n",
       "    }\n",
       "\n",
       "    .dataframe tbody tr th {\n",
       "        vertical-align: top;\n",
       "    }\n",
       "\n",
       "    .dataframe thead th {\n",
       "        text-align: right;\n",
       "    }\n",
       "</style>\n",
       "<table border=\"1\" class=\"dataframe\">\n",
       "  <thead>\n",
       "    <tr style=\"text-align: right;\">\n",
       "      <th></th>\n",
       "      <th>index</th>\n",
       "      <th>Occupation</th>\n",
       "      <th>All_workers</th>\n",
       "      <th>All_weekly</th>\n",
       "      <th>M_workers</th>\n",
       "      <th>M_weekly</th>\n",
       "      <th>F_workers</th>\n",
       "      <th>F_weekly</th>\n",
       "      <th>weekly_gap</th>\n",
       "    </tr>\n",
       "  </thead>\n",
       "  <tbody>\n",
       "    <tr>\n",
       "      <th>0</th>\n",
       "      <td>0</td>\n",
       "      <td>ALL OCCUPATIONS</td>\n",
       "      <td>109080</td>\n",
       "      <td>809</td>\n",
       "      <td>60746</td>\n",
       "      <td>895</td>\n",
       "      <td>48334</td>\n",
       "      <td>726</td>\n",
       "      <td>169</td>\n",
       "    </tr>\n",
       "    <tr>\n",
       "      <th>1</th>\n",
       "      <td>1</td>\n",
       "      <td>MANAGEMENT</td>\n",
       "      <td>12480</td>\n",
       "      <td>1351</td>\n",
       "      <td>7332</td>\n",
       "      <td>1486</td>\n",
       "      <td>5147</td>\n",
       "      <td>1139</td>\n",
       "      <td>347</td>\n",
       "    </tr>\n",
       "    <tr>\n",
       "      <th>2</th>\n",
       "      <td>2</td>\n",
       "      <td>Chief executives</td>\n",
       "      <td>1046</td>\n",
       "      <td>2041</td>\n",
       "      <td>763</td>\n",
       "      <td>2251</td>\n",
       "      <td>283</td>\n",
       "      <td>1836</td>\n",
       "      <td>415</td>\n",
       "    </tr>\n",
       "    <tr>\n",
       "      <th>3</th>\n",
       "      <td>3</td>\n",
       "      <td>General and operations managers</td>\n",
       "      <td>823</td>\n",
       "      <td>1260</td>\n",
       "      <td>621</td>\n",
       "      <td>1347</td>\n",
       "      <td>202</td>\n",
       "      <td>1002</td>\n",
       "      <td>345</td>\n",
       "    </tr>\n",
       "    <tr>\n",
       "      <th>4</th>\n",
       "      <td>6</td>\n",
       "      <td>Marketing and sales managers</td>\n",
       "      <td>948</td>\n",
       "      <td>1462</td>\n",
       "      <td>570</td>\n",
       "      <td>1603</td>\n",
       "      <td>378</td>\n",
       "      <td>1258</td>\n",
       "      <td>345</td>\n",
       "    </tr>\n",
       "    <tr>\n",
       "      <th>...</th>\n",
       "      <td>...</td>\n",
       "      <td>...</td>\n",
       "      <td>...</td>\n",
       "      <td>...</td>\n",
       "      <td>...</td>\n",
       "      <td>...</td>\n",
       "      <td>...</td>\n",
       "      <td>...</td>\n",
       "      <td>...</td>\n",
       "    </tr>\n",
       "    <tr>\n",
       "      <th>218</th>\n",
       "      <td>521</td>\n",
       "      <td>TRANSPORTATION</td>\n",
       "      <td>6953</td>\n",
       "      <td>646</td>\n",
       "      <td>5998</td>\n",
       "      <td>679</td>\n",
       "      <td>955</td>\n",
       "      <td>494</td>\n",
       "      <td>185</td>\n",
       "    </tr>\n",
       "    <tr>\n",
       "      <th>221</th>\n",
       "      <td>527</td>\n",
       "      <td>Bus drivers</td>\n",
       "      <td>323</td>\n",
       "      <td>615</td>\n",
       "      <td>184</td>\n",
       "      <td>681</td>\n",
       "      <td>138</td>\n",
       "      <td>572</td>\n",
       "      <td>109</td>\n",
       "    </tr>\n",
       "    <tr>\n",
       "      <th>222</th>\n",
       "      <td>528</td>\n",
       "      <td>Driver/sales workers and truck drivers</td>\n",
       "      <td>2687</td>\n",
       "      <td>747</td>\n",
       "      <td>2582</td>\n",
       "      <td>751</td>\n",
       "      <td>105</td>\n",
       "      <td>632</td>\n",
       "      <td>119</td>\n",
       "    </tr>\n",
       "    <tr>\n",
       "      <th>229</th>\n",
       "      <td>550</td>\n",
       "      <td>Laborers and freight, stock, and material move...</td>\n",
       "      <td>1433</td>\n",
       "      <td>526</td>\n",
       "      <td>1214</td>\n",
       "      <td>547</td>\n",
       "      <td>219</td>\n",
       "      <td>455</td>\n",
       "      <td>92</td>\n",
       "    </tr>\n",
       "    <tr>\n",
       "      <th>230</th>\n",
       "      <td>552</td>\n",
       "      <td>Packers and packagers, hand</td>\n",
       "      <td>385</td>\n",
       "      <td>438</td>\n",
       "      <td>158</td>\n",
       "      <td>462</td>\n",
       "      <td>227</td>\n",
       "      <td>424</td>\n",
       "      <td>38</td>\n",
       "    </tr>\n",
       "  </tbody>\n",
       "</table>\n",
       "<p>142 rows × 9 columns</p>\n",
       "</div>"
      ],
      "text/plain": [
       "     index                                         Occupation  All_workers  \\\n",
       "0        0                                    ALL OCCUPATIONS       109080   \n",
       "1        1                                         MANAGEMENT        12480   \n",
       "2        2                                   Chief executives         1046   \n",
       "3        3                    General and operations managers          823   \n",
       "4        6                       Marketing and sales managers          948   \n",
       "..     ...                                                ...          ...   \n",
       "218    521                                     TRANSPORTATION         6953   \n",
       "221    527                                        Bus drivers          323   \n",
       "222    528             Driver/sales workers and truck drivers         2687   \n",
       "229    550  Laborers and freight, stock, and material move...         1433   \n",
       "230    552                        Packers and packagers, hand          385   \n",
       "\n",
       "    All_weekly  M_workers  M_weekly  F_workers  F_weekly  weekly_gap  \n",
       "0          809      60746       895      48334       726         169  \n",
       "1         1351       7332      1486       5147      1139         347  \n",
       "2         2041        763      2251        283      1836         415  \n",
       "3         1260        621      1347        202      1002         345  \n",
       "4         1462        570      1603        378      1258         345  \n",
       "..         ...        ...       ...        ...       ...         ...  \n",
       "218        646       5998       679        955       494         185  \n",
       "221        615        184       681        138       572         109  \n",
       "222        747       2582       751        105       632         119  \n",
       "229        526       1214       547        219       455          92  \n",
       "230        438        158       462        227       424          38  \n",
       "\n",
       "[142 rows x 9 columns]"
      ]
     },
     "execution_count": 119,
     "metadata": {},
     "output_type": "execute_result"
    }
   ],
   "source": [
    "df=df.assign(weekly_gap=(df['M_weekly'] - df['F_weekly']))\n",
    "df"
   ]
  },
  {
   "cell_type": "code",
   "execution_count": 21,
   "metadata": {},
   "outputs": [
    {
     "data": {
      "text/plain": [
       "Text(0, 0.5, 'occupation')"
      ]
     },
     "execution_count": 21,
     "metadata": {},
     "output_type": "execute_result"
    },
    {
     "data": {
      "image/png": "[encoded data removed]",
      "text/plain": [
       "<Figure size 1080x720 with 1 Axes>"
      ]
     },
     "metadata": {
      "needs_background": "light"
     },
     "output_type": "display_data"
    }
   ],
   "source": [
    "# bar graph for \n",
    "F_weekly = [1139,1004, 1245, 1135, 942, 475, 578, 494, 907]\n",
    "M_weekly = [1486, 1327, 1503, 1877, 1088, 597, 880, 679, 1144]\n",
    "index = ['mang', 'busi', 'comp',\n",
    "          'legal', 'arts', 'service', 'sales', 'transp', 'edu']\n",
    "df = pd.DataFrame({'F_weekly': F_weekly, 'M_weekly': M_weekly }, index=index)\n",
    "ax = df.plot.bar(rot=0, figsize = (15,10))\n",
    "ax.set_xlabel('weekly median income')\n",
    "ax.set_ylabel('occupation')"
   ]
  },
  {
   "cell_type": "code",
   "execution_count": 23,
   "metadata": {},
   "outputs": [
    {
     "data": {
      "text/plain": [
       "Text(0, 0.5, 'occupation')"
      ]
     },
     "execution_count": 23,
     "metadata": {},
     "output_type": "execute_result"
    },
    {
     "data": {
      "image/png": "[encoded data removed]",
      "text/plain": [
       "<Figure size 1296x1368 with 1 Axes>"
      ]
     },
     "metadata": {
      "needs_background": "light"
     },
     "output_type": "display_data"
    }
   ],
   "source": [
    "F_weekly = [1836,1002,1258,981,1563,1130,1274,1226,749,1252,680,902,1156,823,965,1213]\n",
    "M_weekly = [2251,1347,1603,1451,1817,1732,1495,1404,1006,1585,820,1171,1422,1137,1142,1525]\n",
    "index = ['Chief executives', 'General and operations', 'Marketing and sales',\n",
    "         'Administrative services', 'Computer and information systems', 'Financial', 'Human resources', 'Purchasing','Transportation, storage, and distribution ','Education ','Food service','Lodging ',\n",
    "         'Medical and health services','Property, real estate, and community','Social and community service','other']\n",
    "df = pd.DataFrame({'F_weekly': F_weekly, 'M_weekly': M_weekly }, index=index)\n",
    "ax = df.plot.barh(rot=0, title = 'Manager income', figsize = (18,19))            \n",
    "ax.set_xlabel('weekly median income')\n",
    "ax.set_ylabel('occupation')"
   ]
  },
  {
   "cell_type": "code",
   "execution_count": 22,
   "metadata": {},
   "outputs": [
    {
     "data": {
      "text/plain": [
       "Text(0, 0.5, 'Manager Job Type')"
      ]
     },
     "execution_count": 22,
     "metadata": {},
     "output_type": "execute_result"
    },
    {
     "data": {
      "image/png": "[encoded data removed]",
      "text/plain": [
       "<Figure size 1080x720 with 1 Axes>"
      ]
     },
     "metadata": {
      "needs_background": "light"
     },
     "output_type": "display_data"
    }
   ],
   "source": [
    "# Bar graph for amount of male and female workers in management jobs\n",
    "M_workers = [763, 621, 570, 96, 466, 551, 68, 109, 224, 282, 389, 54, 154, 171, 105, 1717]\n",
    "W_workers = [283, 202, 378, 73, 169, 573, 186, 84, 52, 496, 374, 68, 438, 230, 20, 1085]\n",
    "index = ['Chief executives', 'General and operations', 'Marketing and sales',\n",
    "         'Administrative services', 'Computer and information systems', 'Financial', 'Human resources', 'Purchasing',\n",
    "         'Transportation, storage, and distribution ','Education ','Food service','Lodging ','Medical and health services','Property, real estate, and community','Social and community service','other']\n",
    "df = pd.DataFrame({'M_workers': M_workers,\n",
    "                   'W_workers': W_workers}, index=index)\n",
    "ax = df.plot.barh(rot=0, figsize=(15,10),title = 'Number of Men and Women in Different Management Jobs')\n",
    "ax.set_xlabel(\"Number of Workers\")\n",
    "ax.set_ylabel(\"Manager Job Type\")"
   ]
  },
  {
   "cell_type": "code",
   "execution_count": 29,
   "metadata": {},
   "outputs": [
    {
     "data": {
      "text/plain": [
       "Text(0, 0.5, 'Weeky Salary in Dollars')"
      ]
     },
     "execution_count": 29,
     "metadata": {},
     "output_type": "execute_result"
    },
    {
     "data": {
      "image/png": "[encoded data removed]",
      "text/plain": [
       "<Figure size 936x720 with 1 Axes>"
      ]
     },
     "metadata": {
      "needs_background": "light"
     },
     "output_type": "display_data"
    }
   ],
   "source": [
    "weekly_gap = [347, 323, 258, 742, 146, 122, 302, 185, 237]\n",
    "index = ['mang', 'busi', 'comp','legal', 'arts', 'service', 'sales', 'transp', 'edu']\n",
    "df = pd.DataFrame({'weekly_gap':weekly_gap}, index=index)\n",
    "ax =df.plot.bar(rot=0, figsize = (13,10))\n",
    "ax.set_xlabel(\"Job Industries\")\n",
    "ax.set_ylabel(\"Weeky Salary in Dollars\")"
   ]
  },
  {
   "cell_type": "code",
   "execution_count": null,
   "metadata": {},
   "outputs": [],
   "source": []
  }
 ],
 "metadata": {
  "kernelspec": {
   "display_name": "Python 3",
   "language": "python",
   "name": "python3"
  },
  "language_info": {
   "codemirror_mode": {
    "name": "ipython",
    "version": 3
   },
   "file_extension": ".py",
   "mimetype": "text/x-python",
   "name": "python",
   "nbconvert_exporter": "python",
   "pygments_lexer": "ipython3",
   "version": "3.6.7"
  }
 },
 "nbformat": 4,
 "nbformat_minor": 2
}

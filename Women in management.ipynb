{
 "cells": [
  {
   "cell_type": "code",
   "execution_count": 81,
   "metadata": {},
   "outputs": [],
   "source": [
    "%matplotlib inline\n",
    "\n",
    "# Import libraries\n",
    "import numpy as np\n",
    "import pandas as pd\n",
    "\n",
    "import seaborn as sns; sns.set()\n",
    "import matplotlib.pyplot as plt\n",
    "import statsmodels.api as sm\n",
    "import patsy\n"
   ]
  },
  {
   "cell_type": "markdown",
   "metadata": {},
   "source": [
    "# Data Cleaning"
   ]
  },
  {
   "cell_type": "code",
   "execution_count": 82,
   "metadata": {},
   "outputs": [],
   "source": [
    "sns.set(rc={'figure.figsize':(11.7,8.27)})\n"
   ]
  },
  {
   "cell_type": "code",
   "execution_count": 83,
   "metadata": {},
   "outputs": [],
   "source": [
    "df_management = pd.read_csv(\"managerialpostions.csv\")\n",
    "df_management.head()\n",
    "df_management_us = df_management[df_management.Country == \"United States of America\"]\n"
   ]
  },
  {
   "cell_type": "code",
   "execution_count": 84,
   "metadata": {},
   "outputs": [],
   "source": [
    "df_senior = pd.read_csv(\"senior_management_positions.csv\")\n",
    "df_senior_us = df_senior[df_senior.Country == \"United States of America\"]\n"
   ]
  },
  {
   "cell_type": "code",
   "execution_count": 85,
   "metadata": {
    "scrolled": false
   },
   "outputs": [
    {
     "data": {
      "text/html": [
       "<div>\n",
       "<style scoped>\n",
       "    .dataframe tbody tr th:only-of-type {\n",
       "        vertical-align: middle;\n",
       "    }\n",
       "\n",
       "    .dataframe tbody tr th {\n",
       "        vertical-align: top;\n",
       "    }\n",
       "\n",
       "    .dataframe thead th {\n",
       "        text-align: right;\n",
       "    }\n",
       "</style>\n",
       "<table border=\"1\" class=\"dataframe\">\n",
       "  <thead>\n",
       "    <tr style=\"text-align: right;\">\n",
       "      <th></th>\n",
       "      <th>Indicator Name</th>\n",
       "      <th>Region</th>\n",
       "      <th>Country Code</th>\n",
       "      <th>Country</th>\n",
       "      <th>Year</th>\n",
       "      <th>Sex</th>\n",
       "      <th>Value</th>\n",
       "      <th>Unit</th>\n",
       "      <th>NatureData</th>\n",
       "    </tr>\n",
       "  </thead>\n",
       "  <tbody>\n",
       "    <tr>\n",
       "      <th>792</th>\n",
       "      <td>Proportion of women in managerial positions</td>\n",
       "      <td>Developed regions</td>\n",
       "      <td>840</td>\n",
       "      <td>United States of America</td>\n",
       "      <td>2003</td>\n",
       "      <td>Female</td>\n",
       "      <td>37.5</td>\n",
       "      <td>Percentage</td>\n",
       "      <td>Country data</td>\n",
       "    </tr>\n",
       "    <tr>\n",
       "      <th>793</th>\n",
       "      <td>Proportion of women in managerial positions</td>\n",
       "      <td>Developed regions</td>\n",
       "      <td>840</td>\n",
       "      <td>United States of America</td>\n",
       "      <td>2008</td>\n",
       "      <td>Female</td>\n",
       "      <td>38.3</td>\n",
       "      <td>Percentage</td>\n",
       "      <td>Country data</td>\n",
       "    </tr>\n",
       "    <tr>\n",
       "      <th>794</th>\n",
       "      <td>Proportion of women in managerial positions</td>\n",
       "      <td>Developed regions</td>\n",
       "      <td>840</td>\n",
       "      <td>United States of America</td>\n",
       "      <td>2000</td>\n",
       "      <td>Female</td>\n",
       "      <td>36.0</td>\n",
       "      <td>Percentage</td>\n",
       "      <td>Country data</td>\n",
       "    </tr>\n",
       "    <tr>\n",
       "      <th>795</th>\n",
       "      <td>Proportion of women in managerial positions</td>\n",
       "      <td>Developed regions</td>\n",
       "      <td>840</td>\n",
       "      <td>United States of America</td>\n",
       "      <td>2005</td>\n",
       "      <td>Female</td>\n",
       "      <td>37.8</td>\n",
       "      <td>Percentage</td>\n",
       "      <td>Country data</td>\n",
       "    </tr>\n",
       "    <tr>\n",
       "      <th>796</th>\n",
       "      <td>Proportion of women in managerial positions</td>\n",
       "      <td>Developed regions</td>\n",
       "      <td>840</td>\n",
       "      <td>United States of America</td>\n",
       "      <td>2007</td>\n",
       "      <td>Female</td>\n",
       "      <td>38.4</td>\n",
       "      <td>Percentage</td>\n",
       "      <td>Country data</td>\n",
       "    </tr>\n",
       "  </tbody>\n",
       "</table>\n",
       "</div>"
      ],
      "text/plain": [
       "                                  Indicator Name             Region  \\\n",
       "792  Proportion of women in managerial positions  Developed regions   \n",
       "793  Proportion of women in managerial positions  Developed regions   \n",
       "794  Proportion of women in managerial positions  Developed regions   \n",
       "795  Proportion of women in managerial positions  Developed regions   \n",
       "796  Proportion of women in managerial positions  Developed regions   \n",
       "\n",
       "     Country Code                   Country  Year     Sex  Value        Unit  \\\n",
       "792           840  United States of America  2003  Female   37.5  Percentage   \n",
       "793           840  United States of America  2008  Female   38.3  Percentage   \n",
       "794           840  United States of America  2000  Female   36.0  Percentage   \n",
       "795           840  United States of America  2005  Female   37.8  Percentage   \n",
       "796           840  United States of America  2007  Female   38.4  Percentage   \n",
       "\n",
       "       NatureData  \n",
       "792  Country data  \n",
       "793  Country data  \n",
       "794  Country data  \n",
       "795  Country data  \n",
       "796  Country data  "
      ]
     },
     "execution_count": 85,
     "metadata": {},
     "output_type": "execute_result"
    }
   ],
   "source": [
    "df_management_us = df_management_us.drop(columns =[\"Age\", \"Location\", \"Occupation\", \"LowerBound\", \"UpperBound\", \"OriginData\", \"Footnote1\", \"Footnote2\"]) \n",
    "df_management_us.head()\n"
   ]
  },
  {
   "cell_type": "code",
   "execution_count": 86,
   "metadata": {},
   "outputs": [
    {
     "data": {
      "text/html": [
       "<div>\n",
       "<style scoped>\n",
       "    .dataframe tbody tr th:only-of-type {\n",
       "        vertical-align: middle;\n",
       "    }\n",
       "\n",
       "    .dataframe tbody tr th {\n",
       "        vertical-align: top;\n",
       "    }\n",
       "\n",
       "    .dataframe thead th {\n",
       "        text-align: right;\n",
       "    }\n",
       "</style>\n",
       "<table border=\"1\" class=\"dataframe\">\n",
       "  <thead>\n",
       "    <tr style=\"text-align: right;\">\n",
       "      <th></th>\n",
       "      <th>Indicator Name</th>\n",
       "      <th>Region</th>\n",
       "      <th>Country Code</th>\n",
       "      <th>Country</th>\n",
       "      <th>Year</th>\n",
       "      <th>Sex</th>\n",
       "      <th>Value</th>\n",
       "      <th>Unit</th>\n",
       "      <th>NatureData</th>\n",
       "    </tr>\n",
       "  </thead>\n",
       "  <tbody>\n",
       "    <tr>\n",
       "      <th>588</th>\n",
       "      <td>Proportion of women in senior and middle manag...</td>\n",
       "      <td>Developed regions</td>\n",
       "      <td>840</td>\n",
       "      <td>United States of America</td>\n",
       "      <td>2003</td>\n",
       "      <td>Female</td>\n",
       "      <td>37.3</td>\n",
       "      <td>Percentage</td>\n",
       "      <td>Country data</td>\n",
       "    </tr>\n",
       "    <tr>\n",
       "      <th>589</th>\n",
       "      <td>Proportion of women in senior and middle manag...</td>\n",
       "      <td>Developed regions</td>\n",
       "      <td>840</td>\n",
       "      <td>United States of America</td>\n",
       "      <td>2008</td>\n",
       "      <td>Female</td>\n",
       "      <td>37.9</td>\n",
       "      <td>Percentage</td>\n",
       "      <td>Country data</td>\n",
       "    </tr>\n",
       "    <tr>\n",
       "      <th>590</th>\n",
       "      <td>Proportion of women in senior and middle manag...</td>\n",
       "      <td>Developed regions</td>\n",
       "      <td>840</td>\n",
       "      <td>United States of America</td>\n",
       "      <td>2000</td>\n",
       "      <td>Female</td>\n",
       "      <td>35.5</td>\n",
       "      <td>Percentage</td>\n",
       "      <td>Country data</td>\n",
       "    </tr>\n",
       "    <tr>\n",
       "      <th>591</th>\n",
       "      <td>Proportion of women in senior and middle manag...</td>\n",
       "      <td>Developed regions</td>\n",
       "      <td>840</td>\n",
       "      <td>United States of America</td>\n",
       "      <td>2005</td>\n",
       "      <td>Female</td>\n",
       "      <td>37.5</td>\n",
       "      <td>Percentage</td>\n",
       "      <td>Country data</td>\n",
       "    </tr>\n",
       "    <tr>\n",
       "      <th>592</th>\n",
       "      <td>Proportion of women in senior and middle manag...</td>\n",
       "      <td>Developed regions</td>\n",
       "      <td>840</td>\n",
       "      <td>United States of America</td>\n",
       "      <td>2007</td>\n",
       "      <td>Female</td>\n",
       "      <td>38.1</td>\n",
       "      <td>Percentage</td>\n",
       "      <td>Country data</td>\n",
       "    </tr>\n",
       "  </tbody>\n",
       "</table>\n",
       "</div>"
      ],
      "text/plain": [
       "                                        Indicator Name             Region  \\\n",
       "588  Proportion of women in senior and middle manag...  Developed regions   \n",
       "589  Proportion of women in senior and middle manag...  Developed regions   \n",
       "590  Proportion of women in senior and middle manag...  Developed regions   \n",
       "591  Proportion of women in senior and middle manag...  Developed regions   \n",
       "592  Proportion of women in senior and middle manag...  Developed regions   \n",
       "\n",
       "     Country Code                   Country  Year     Sex  Value        Unit  \\\n",
       "588           840  United States of America  2003  Female   37.3  Percentage   \n",
       "589           840  United States of America  2008  Female   37.9  Percentage   \n",
       "590           840  United States of America  2000  Female   35.5  Percentage   \n",
       "591           840  United States of America  2005  Female   37.5  Percentage   \n",
       "592           840  United States of America  2007  Female   38.1  Percentage   \n",
       "\n",
       "       NatureData  \n",
       "588  Country data  \n",
       "589  Country data  \n",
       "590  Country data  \n",
       "591  Country data  \n",
       "592  Country data  "
      ]
     },
     "execution_count": 86,
     "metadata": {},
     "output_type": "execute_result"
    }
   ],
   "source": [
    "df_senior_us = df_senior_us.drop(columns = [\"Age\", \"Location\", \"Occupation\", \"LowerBound\", \"UpperBound\", \"OriginData\", \"Footnote1\", \"Footnote2\", \"Footnote3\", \"Footnote4\", \"Footnote5\", \"Footnote6\", \"Coverage\"]) \n",
    "df_senior_us.head()"
   ]
  },
  {
   "cell_type": "code",
   "execution_count": 87,
   "metadata": {},
   "outputs": [],
   "source": [
    "#df_domestic = pd.read_csv('domestic_chores_by_sex.csv')\n",
    "#df_domestic = df_domestic.drop(['Country Code', 'Occupation', 'Location', 'Region', 'NatureData'], axis =1)\n",
    "#df_domestic"
   ]
  },
  {
   "cell_type": "code",
   "execution_count": 88,
   "metadata": {},
   "outputs": [
    {
     "data": {
      "text/html": [
       "<div>\n",
       "<style scoped>\n",
       "    .dataframe tbody tr th:only-of-type {\n",
       "        vertical-align: middle;\n",
       "    }\n",
       "\n",
       "    .dataframe tbody tr th {\n",
       "        vertical-align: top;\n",
       "    }\n",
       "\n",
       "    .dataframe thead th {\n",
       "        text-align: right;\n",
       "    }\n",
       "</style>\n",
       "<table border=\"1\" class=\"dataframe\">\n",
       "  <thead>\n",
       "    <tr style=\"text-align: right;\">\n",
       "      <th></th>\n",
       "      <th>Indicator Name</th>\n",
       "      <th>Region</th>\n",
       "      <th>Country Code</th>\n",
       "      <th>Country</th>\n",
       "      <th>Year</th>\n",
       "      <th>Sex</th>\n",
       "      <th>Value</th>\n",
       "      <th>Unit</th>\n",
       "      <th>NatureData</th>\n",
       "    </tr>\n",
       "  </thead>\n",
       "  <tbody>\n",
       "    <tr>\n",
       "      <th>0</th>\n",
       "      <td>Proportion of women in managerial positions</td>\n",
       "      <td>Developed regions</td>\n",
       "      <td>840</td>\n",
       "      <td>United States of America</td>\n",
       "      <td>2000</td>\n",
       "      <td>Female</td>\n",
       "      <td>36.0</td>\n",
       "      <td>Percentage</td>\n",
       "      <td>Country data</td>\n",
       "    </tr>\n",
       "    <tr>\n",
       "      <th>1</th>\n",
       "      <td>Proportion of women in managerial positions</td>\n",
       "      <td>Developed regions</td>\n",
       "      <td>840</td>\n",
       "      <td>United States of America</td>\n",
       "      <td>2000</td>\n",
       "      <td>Female</td>\n",
       "      <td>35.5</td>\n",
       "      <td>Percentage</td>\n",
       "      <td>Country data</td>\n",
       "    </tr>\n",
       "    <tr>\n",
       "      <th>2</th>\n",
       "      <td>Proportion of women in managerial positions</td>\n",
       "      <td>Developed regions</td>\n",
       "      <td>840</td>\n",
       "      <td>United States of America</td>\n",
       "      <td>2001</td>\n",
       "      <td>Female</td>\n",
       "      <td>35.9</td>\n",
       "      <td>Percentage</td>\n",
       "      <td>Country data</td>\n",
       "    </tr>\n",
       "    <tr>\n",
       "      <th>3</th>\n",
       "      <td>Proportion of women in managerial positions</td>\n",
       "      <td>Developed regions</td>\n",
       "      <td>840</td>\n",
       "      <td>United States of America</td>\n",
       "      <td>2001</td>\n",
       "      <td>Female</td>\n",
       "      <td>36.4</td>\n",
       "      <td>Percentage</td>\n",
       "      <td>Country data</td>\n",
       "    </tr>\n",
       "    <tr>\n",
       "      <th>4</th>\n",
       "      <td>Proportion of women in managerial positions</td>\n",
       "      <td>Developed regions</td>\n",
       "      <td>840</td>\n",
       "      <td>United States of America</td>\n",
       "      <td>2002</td>\n",
       "      <td>Female</td>\n",
       "      <td>36.4</td>\n",
       "      <td>Percentage</td>\n",
       "      <td>Country data</td>\n",
       "    </tr>\n",
       "  </tbody>\n",
       "</table>\n",
       "</div>"
      ],
      "text/plain": [
       "                                Indicator Name             Region  \\\n",
       "0  Proportion of women in managerial positions  Developed regions   \n",
       "1  Proportion of women in managerial positions  Developed regions   \n",
       "2  Proportion of women in managerial positions  Developed regions   \n",
       "3  Proportion of women in managerial positions  Developed regions   \n",
       "4  Proportion of women in managerial positions  Developed regions   \n",
       "\n",
       "   Country Code                   Country  Year     Sex  Value        Unit  \\\n",
       "0           840  United States of America  2000  Female   36.0  Percentage   \n",
       "1           840  United States of America  2000  Female   35.5  Percentage   \n",
       "2           840  United States of America  2001  Female   35.9  Percentage   \n",
       "3           840  United States of America  2001  Female   36.4  Percentage   \n",
       "4           840  United States of America  2002  Female   36.4  Percentage   \n",
       "\n",
       "     NatureData  \n",
       "0  Country data  \n",
       "1  Country data  \n",
       "2  Country data  \n",
       "3  Country data  \n",
       "4  Country data  "
      ]
     },
     "execution_count": 88,
     "metadata": {},
     "output_type": "execute_result"
    }
   ],
   "source": [
    "df_manage = pd.concat([df_management_us, df_senior_us], ignore_index=True)\n",
    "df_manage = df_manage.replace({'Indicator Name': \"Proportion of women in senior and middle management positions\"}, \"Proportion of women in managerial positions\")\n",
    "df_manage = df_manage.sort_values('Year')\n",
    "df_manage = df_manage.reset_index(drop=True)\n",
    "df_manage.head()"
   ]
  },
  {
   "cell_type": "markdown",
   "metadata": {},
   "source": [
    "# Data Analysis"
   ]
  },
  {
   "cell_type": "code",
   "execution_count": 89,
   "metadata": {},
   "outputs": [
    {
     "data": {
      "text/html": [
       "<div>\n",
       "<style scoped>\n",
       "    .dataframe tbody tr th:only-of-type {\n",
       "        vertical-align: middle;\n",
       "    }\n",
       "\n",
       "    .dataframe tbody tr th {\n",
       "        vertical-align: top;\n",
       "    }\n",
       "\n",
       "    .dataframe thead th {\n",
       "        text-align: right;\n",
       "    }\n",
       "</style>\n",
       "<table border=\"1\" class=\"dataframe\">\n",
       "  <thead>\n",
       "    <tr style=\"text-align: right;\">\n",
       "      <th></th>\n",
       "      <th>Country Code</th>\n",
       "      <th>Year</th>\n",
       "      <th>Value</th>\n",
       "    </tr>\n",
       "  </thead>\n",
       "  <tbody>\n",
       "    <tr>\n",
       "      <th>count</th>\n",
       "      <td>36.0</td>\n",
       "      <td>36.000000</td>\n",
       "      <td>36.000000</td>\n",
       "    </tr>\n",
       "    <tr>\n",
       "      <th>mean</th>\n",
       "      <td>840.0</td>\n",
       "      <td>2008.500000</td>\n",
       "      <td>38.147222</td>\n",
       "    </tr>\n",
       "    <tr>\n",
       "      <th>std</th>\n",
       "      <td>0.0</td>\n",
       "      <td>5.261722</td>\n",
       "      <td>1.262534</td>\n",
       "    </tr>\n",
       "    <tr>\n",
       "      <th>min</th>\n",
       "      <td>840.0</td>\n",
       "      <td>2000.000000</td>\n",
       "      <td>35.500000</td>\n",
       "    </tr>\n",
       "    <tr>\n",
       "      <th>25%</th>\n",
       "      <td>840.0</td>\n",
       "      <td>2004.000000</td>\n",
       "      <td>37.300000</td>\n",
       "    </tr>\n",
       "    <tr>\n",
       "      <th>50%</th>\n",
       "      <td>840.0</td>\n",
       "      <td>2008.500000</td>\n",
       "      <td>38.300000</td>\n",
       "    </tr>\n",
       "    <tr>\n",
       "      <th>75%</th>\n",
       "      <td>840.0</td>\n",
       "      <td>2013.000000</td>\n",
       "      <td>39.025000</td>\n",
       "    </tr>\n",
       "    <tr>\n",
       "      <th>max</th>\n",
       "      <td>840.0</td>\n",
       "      <td>2017.000000</td>\n",
       "      <td>40.500000</td>\n",
       "    </tr>\n",
       "  </tbody>\n",
       "</table>\n",
       "</div>"
      ],
      "text/plain": [
       "       Country Code         Year      Value\n",
       "count          36.0    36.000000  36.000000\n",
       "mean          840.0  2008.500000  38.147222\n",
       "std             0.0     5.261722   1.262534\n",
       "min           840.0  2000.000000  35.500000\n",
       "25%           840.0  2004.000000  37.300000\n",
       "50%           840.0  2008.500000  38.300000\n",
       "75%           840.0  2013.000000  39.025000\n",
       "max           840.0  2017.000000  40.500000"
      ]
     },
     "execution_count": 89,
     "metadata": {},
     "output_type": "execute_result"
    }
   ],
   "source": [
    "df_manage.describe()"
   ]
  },
  {
   "cell_type": "markdown",
   "metadata": {},
   "source": [
    "This chart shows the basic description of the proportion of women in management positions over the course of 17 years. We can ignore the \"Country Code\" and \"Year\" column, as those are not the variables that we want to describe. When we look at the statistical description of the column \"Value\", we can see that the smallest proportion of women was 35.5% in the year 2000, and that this percentage has increased to 40.5% in the year 2017. "
   ]
  },
  {
   "cell_type": "code",
   "execution_count": 90,
   "metadata": {},
   "outputs": [
    {
     "data": {
      "text/plain": [
       "Text(0.5, 1.0, 'Proportion of Women in Management Positions from 2000 to 2017')"
      ]
     },
     "execution_count": 90,
     "metadata": {},
     "output_type": "execute_result"
    },
    {
     "data": {
      "image/png": "[encoded data removed]",
      "text/plain": [
       "<Figure size 842.4x595.44 with 1 Axes>"
      ]
     },
     "metadata": {},
     "output_type": "display_data"
    }
   ],
   "source": [
    "\n",
    "ax = sns.scatterplot(x=\"Year\", y=\"Value\", data=df_manage)\n",
    "ax.set_title(\"Proportion of Women in Management Positions from 2000 to 2017\")\n"
   ]
  },
  {
   "cell_type": "markdown",
   "metadata": {},
   "source": [
    "From this inital scatterplot created by plotting the proportion of women in management positions versus the year of the observation, we can already tell that there is a strong positive relationship between these two variables. \n",
    "\n",
    "However, to be sure of this, we can go on to perform a linear regression analysis to find out the strength of this relationship."
   ]
  },
  {
   "cell_type": "markdown",
   "metadata": {},
   "source": [
    "The type of linear regression that we will be performing is an Ordinary Least Squares analysis, which means that we are fitting a regression line that would minimize the square of distance from the regression line."
   ]
  },
  {
   "cell_type": "code",
   "execution_count": 91,
   "metadata": {},
   "outputs": [
    {
     "data": {
      "text/html": [
       "<table class=\"simpletable\">\n",
       "<caption>OLS Regression Results</caption>\n",
       "<tr>\n",
       "  <th>Dep. Variable:</th>          <td>Value</td>      <th>  R-squared:         </th> <td>   0.999</td> \n",
       "</tr>\n",
       "<tr>\n",
       "  <th>Model:</th>                   <td>OLS</td>       <th>  Adj. R-squared:    </th> <td>   0.999</td> \n",
       "</tr>\n",
       "<tr>\n",
       "  <th>Method:</th>             <td>Least Squares</td>  <th>  F-statistic:       </th> <td>3.844e+04</td>\n",
       "</tr>\n",
       "<tr>\n",
       "  <th>Date:</th>             <td>Thu, 11 Jun 2020</td> <th>  Prob (F-statistic):</th> <td>8.08e-55</td> \n",
       "</tr>\n",
       "<tr>\n",
       "  <th>Time:</th>                 <td>22:16:45</td>     <th>  Log-Likelihood:    </th> <td> -56.149</td> \n",
       "</tr>\n",
       "<tr>\n",
       "  <th>No. Observations:</th>      <td>    36</td>      <th>  AIC:               </th> <td>   114.3</td> \n",
       "</tr>\n",
       "<tr>\n",
       "  <th>Df Residuals:</th>          <td>    35</td>      <th>  BIC:               </th> <td>   115.9</td> \n",
       "</tr>\n",
       "<tr>\n",
       "  <th>Df Model:</th>              <td>     1</td>      <th>                     </th>     <td> </td>    \n",
       "</tr>\n",
       "<tr>\n",
       "  <th>Covariance Type:</th>      <td>nonrobust</td>    <th>                     </th>     <td> </td>    \n",
       "</tr>\n",
       "</table>\n",
       "<table class=\"simpletable\">\n",
       "<tr>\n",
       "    <td></td>      <th>coef</th>     <th>std err</th>      <th>t</th>      <th>P>|t|</th>  <th>[0.025</th>    <th>0.975]</th>  \n",
       "</tr>\n",
       "<tr>\n",
       "  <th>Year</th> <td>    0.0190</td> <td> 9.69e-05</td> <td>  196.066</td> <td> 0.000</td> <td>    0.019</td> <td>    0.019</td>\n",
       "</tr>\n",
       "</table>\n",
       "<table class=\"simpletable\">\n",
       "<tr>\n",
       "  <th>Omnibus:</th>       <td> 0.829</td> <th>  Durbin-Watson:     </th> <td>   0.145</td>\n",
       "</tr>\n",
       "<tr>\n",
       "  <th>Prob(Omnibus):</th> <td> 0.661</td> <th>  Jarque-Bera (JB):  </th> <td>   0.879</td>\n",
       "</tr>\n",
       "<tr>\n",
       "  <th>Skew:</th>          <td>-0.241</td> <th>  Prob(JB):          </th> <td>   0.644</td>\n",
       "</tr>\n",
       "<tr>\n",
       "  <th>Kurtosis:</th>      <td> 2.406</td> <th>  Cond. No.          </th> <td>    1.00</td>\n",
       "</tr>\n",
       "</table><br/><br/>Warnings:<br/>[1] Standard Errors assume that the covariance matrix of the errors is correctly specified."
      ],
      "text/plain": [
       "<class 'statsmodels.iolib.summary.Summary'>\n",
       "\"\"\"\n",
       "                            OLS Regression Results                            \n",
       "==============================================================================\n",
       "Dep. Variable:                  Value   R-squared:                       0.999\n",
       "Model:                            OLS   Adj. R-squared:                  0.999\n",
       "Method:                 Least Squares   F-statistic:                 3.844e+04\n",
       "Date:                Thu, 11 Jun 2020   Prob (F-statistic):           8.08e-55\n",
       "Time:                        22:16:45   Log-Likelihood:                -56.149\n",
       "No. Observations:                  36   AIC:                             114.3\n",
       "Df Residuals:                      35   BIC:                             115.9\n",
       "Df Model:                           1                                         \n",
       "Covariance Type:            nonrobust                                         \n",
       "==============================================================================\n",
       "                 coef    std err          t      P>|t|      [0.025      0.975]\n",
       "------------------------------------------------------------------------------\n",
       "Year           0.0190   9.69e-05    196.066      0.000       0.019       0.019\n",
       "==============================================================================\n",
       "Omnibus:                        0.829   Durbin-Watson:                   0.145\n",
       "Prob(Omnibus):                  0.661   Jarque-Bera (JB):                0.879\n",
       "Skew:                          -0.241   Prob(JB):                        0.644\n",
       "Kurtosis:                       2.406   Cond. No.                         1.00\n",
       "==============================================================================\n",
       "\n",
       "Warnings:\n",
       "[1] Standard Errors assume that the covariance matrix of the errors is correctly specified.\n",
       "\"\"\""
      ]
     },
     "execution_count": 91,
     "metadata": {},
     "output_type": "execute_result"
    }
   ],
   "source": [
    "# X, or the year, is the independent variable, and Y, or the value/proportion of women, is the dependent value.\n",
    "X = df_manage[\"Year\"]\n",
    "y = df_manage[\"Value\"]\n",
    "\n",
    "# this carries out the Ordinary Least Squares analysis\n",
    "model = sm.OLS(y, X).fit()\n",
    "predictions = model.predict(X) # make the predictions by the model\n",
    "\n",
    "# Print out the statistics\n",
    "p = model.params\n",
    "model.summary()\n"
   ]
  },
  {
   "cell_type": "markdown",
   "metadata": {},
   "source": [
    "This table shows the coefficient of this regression to be 0.0190. This means that as the Year variable increases by 1, there will be a 0.0190 increase in the proportion of women in management positions. We can interpret this to mean that the proportion of women in management positions increases by around 1.9% each year. This trend has held steady from the year 2000."
   ]
  },
  {
   "cell_type": "markdown",
   "metadata": {},
   "source": [
    "Based on this output, we can see that the R-squared value is 0.999, meaning that this model explains 99.9% of the variance in the proportion of women in management positions."
   ]
  },
  {
   "cell_type": "markdown",
   "metadata": {},
   "source": [
    "# Visualizing Linear Regression"
   ]
  },
  {
   "cell_type": "code",
   "execution_count": 92,
   "metadata": {},
   "outputs": [
    {
     "data": {
      "text/html": [
       "<div>\n",
       "<style scoped>\n",
       "    .dataframe tbody tr th:only-of-type {\n",
       "        vertical-align: middle;\n",
       "    }\n",
       "\n",
       "    .dataframe tbody tr th {\n",
       "        vertical-align: top;\n",
       "    }\n",
       "\n",
       "    .dataframe thead th {\n",
       "        text-align: right;\n",
       "    }\n",
       "</style>\n",
       "<table border=\"1\" class=\"dataframe\">\n",
       "  <thead>\n",
       "    <tr style=\"text-align: right;\">\n",
       "      <th></th>\n",
       "      <th>Year</th>\n",
       "      <th>Value</th>\n",
       "    </tr>\n",
       "  </thead>\n",
       "  <tbody>\n",
       "    <tr>\n",
       "      <th>Year</th>\n",
       "      <td>1.000000</td>\n",
       "      <td>0.955019</td>\n",
       "    </tr>\n",
       "    <tr>\n",
       "      <th>Value</th>\n",
       "      <td>0.955019</td>\n",
       "      <td>1.000000</td>\n",
       "    </tr>\n",
       "  </tbody>\n",
       "</table>\n",
       "</div>"
      ],
      "text/plain": [
       "           Year     Value\n",
       "Year   1.000000  0.955019\n",
       "Value  0.955019  1.000000"
      ]
     },
     "execution_count": 92,
     "metadata": {},
     "output_type": "execute_result"
    }
   ],
   "source": [
    "df = pd.DataFrame(df_manage, columns=['Year', 'Value'])\n",
    "\n",
    "#Check correlation between Year and Value\n",
    "df.corr()\n",
    "\n"
   ]
  },
  {
   "cell_type": "code",
   "execution_count": 93,
   "metadata": {},
   "outputs": [
    {
     "data": {
      "image/png": "[encoded data removed]",
      "text/plain": [
       "<Figure size 720x720 with 1 Axes>"
      ]
     },
     "metadata": {},
     "output_type": "display_data"
    }
   ],
   "source": [
    "\n",
    "sns.set_style('whitegrid') \n",
    "g = sns.lmplot(x='Year', y='Value', data=df_manage)\n",
    "g.fig.set_size_inches(10,10)\n"
   ]
  },
  {
   "cell_type": "code",
   "execution_count": 95,
   "metadata": {},
   "outputs": [
    {
     "data": {
      "text/plain": [
       "pandas.core.series.Series"
      ]
     },
     "execution_count": 95,
     "metadata": {},
     "output_type": "execute_result"
    }
   ],
   "source": [
    "type(predictions)"
   ]
  },
  {
   "cell_type": "code",
   "execution_count": 106,
   "metadata": {
    "scrolled": true
   },
   "outputs": [
    {
     "name": "stdout",
     "output_type": "stream",
     "text": [
      "0     37.988587\n",
      "1     37.988587\n",
      "2     38.007581\n",
      "3     38.007581\n",
      "4     38.026576\n",
      "5     38.026576\n",
      "6     38.045570\n",
      "7     38.045570\n",
      "8     38.064564\n",
      "9     38.064564\n",
      "10    38.083559\n",
      "11    38.083559\n",
      "12    38.102553\n",
      "13    38.102553\n",
      "14    38.121547\n",
      "15    38.121547\n",
      "16    38.140542\n",
      "17    38.140542\n",
      "18    38.159536\n",
      "19    38.159536\n",
      "20    38.178530\n",
      "21    38.178530\n",
      "22    38.197524\n",
      "23    38.197524\n",
      "24    38.216519\n",
      "25    38.216519\n",
      "26    38.235513\n",
      "27    38.235513\n",
      "28    38.254507\n",
      "29    38.254507\n",
      "30    38.273502\n",
      "31    38.273502\n",
      "32    38.292496\n",
      "33    38.292496\n",
      "34    38.311490\n",
      "35    38.311490\n"
     ]
    }
   ],
   "source": [
    "print(predictions.to_string())"
   ]
  },
  {
   "cell_type": "markdown",
   "metadata": {},
   "source": [
    "This list of predictions shows the predicted proportion of women in management in the coming years. This is based on the model that we fitted using the Ordinary Least Squares analysis, and shows the results for up to the next 35 years. \n",
    "\n",
    "For example, one way to interpret these predictions would be to say that in 5 years from 2017, or in 2022, the predicted percentage of women in senior and middle management positions would be around 38.03%. This shows the gradual increase in the proportion of women with the passing of time. \n",
    "\n",
    "However, there are some confounding factors that might have contributed to a skewed analaysis of these two variables. This could have been bias in the women that were observed, they might have all been chosen from the same industry, which could have been one that had a higher or lower than average proportion of women in management. Also, the definition of \"management positions\" could have too specific to generalize over an entire workforce of women, or maybe too general. \n",
    "\n",
    "With these preliminary results, I conclude that there has been a steady increase in the proportion of women in the workforce over the last 20 or so years, but there is still a long way to go before women make up 50% of people in management positions. "
   ]
  },
  {
   "cell_type": "code",
   "execution_count": null,
   "metadata": {},
   "outputs": [],
   "source": []
  }
 ],
 "metadata": {
  "kernelspec": {
   "display_name": "Python 3",
   "language": "python",
   "name": "python3"
  },
  "language_info": {
   "codemirror_mode": {
    "name": "ipython",
    "version": 3
   },
   "file_extension": ".py",
   "mimetype": "text/x-python",
   "name": "python",
   "nbconvert_exporter": "python",
   "pygments_lexer": "ipython3",
   "version": "3.7.4"
  }
 },
 "nbformat": 4,
 "nbformat_minor": 2
}

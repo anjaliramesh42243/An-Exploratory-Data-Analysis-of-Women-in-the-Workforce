{
 "cells": [
  {
   "cell_type": "markdown",
   "metadata": {},
   "source": [
    "# COGS 108 - Project Proposal"
   ]
  },
  {
   "cell_type": "markdown",
   "metadata": {},
   "source": [
    "# Names & PID\n",
    "\n",
    "- Anjali Ramesh - A15524912\n",
    "- Apurwa Shukla- A14024123\n",
    "- Gaurika Duvur - A14461573\n",
    "- Vicky Vo - A13950829"
   ]
  },
  {
   "cell_type": "markdown",
   "metadata": {},
   "source": [
    "# Research Question"
   ]
  },
  {
   "cell_type": "markdown",
   "metadata": {},
   "source": [
    "What industry can we predict will have increments in female workers based on the following factors: amount of female workers, females in management/administrative positions, income gap between males and females, and maternity leave policies? "
   ]
  },
  {
   "cell_type": "markdown",
   "metadata": {},
   "source": [
    "## Background and Prior Work"
   ]
  },
  {
   "cell_type": "markdown",
   "metadata": {},
   "source": [
    "   This topic is of interest to our group because, as female students preparing to enter the workforce, particularly in male dominated STEM fields, we have noticed the increased attention on the disparity between male and female workers throughout industries, and factors that contribute to this gap. We wanted to learn more about the components that affect a woman’s success in a specific field in order to be able to predict the industries that are the most profitable for women today. \n",
    " \n",
    "   There has been research done on different aspects of female employment, such as income, paid and unpaid leave, socioeconomic status, and education. With regards to COGS 108 in particular, there is a project focusing on the effect of maternity leave on female involvement in the workforce, which takes into consideration aspects of our research question (1). The results of this project conclude that there was a stronger effect of maternity leave on female participation in the workforce than participation on maternity leave. Another project describes policies surrounding acceptance rates of women in STEM careers and whether or not these policies are fair (2). This project shows that there is not much of an inequality between hiring rates of men and women in STEM fields, and that the proportion of men and women working in these fields is fairly equal. Both these projects use data that could be useful to answering our research question. \n",
    " \n",
    "\n",
    "References (include links):\n",
    "- 1) https://github.com/COGS108/FinalProjects-Wi20/blob/master/FinalProject_group069.ipynb\n",
    "- 2) https://github.com/COGS108/FinalProjects-Wi20/blob/master/FinalProject_group093.ipynb\n",
    "- 3) https://iwpr.org/publications/status-of-women-fact-sheet-2018/"
   ]
  },
  {
   "cell_type": "markdown",
   "metadata": {},
   "source": [
    "# Hypothesis\n"
   ]
  },
  {
   "cell_type": "markdown",
   "metadata": {},
   "source": [
    "Industries with a closing gap in the amount of male and female workers, income, more women in management positions, and more generous maternity leave policies will predict a higher increase in female participation. "
   ]
  },
  {
   "cell_type": "markdown",
   "metadata": {},
   "source": [
    "# Data"
   ]
  },
  {
   "cell_type": "markdown",
   "metadata": {},
   "source": [
    "The ideal dataset would include the proportion of the labor force in that occupation that are women, their average income in that industry (as well as how that income differs between male and female workers), and the average number of weeks of paid maternity leave offered in that industry.\n",
    "\n",
    "- The US Bureau of Labor and Statistics has data detailing the median income, and proportion of women that work in various industries. They have also published data regarding paid and unpaid personal leave policies in civilian industries, labor workers, and state and government industries.\n",
    "\n",
    "- FairyGodBoss is a startup that has been crowdsourcing data about maternity leave policies from various companies across industries. The United Nations provides data on disparities between female and male employees throughout the world, percentage of wages paid during maternity leave, and percentage of women in various positions in the workforce.\n",
    "\n",
    "- The data on US adult income and adult census income provide information on female and male income based on their backgrounds such as education level, marriage status, age, race and occupation.\n",
    "\n",
    "- The Institute for Women’s Policy Research also offers a dataset detailing the earnings ratio between women and men employed full time, year-round, the percent of women in the labor force, and the percent of all women employed in managerial or professional occupations in various states across America. \n"
   ]
  },
  {
   "cell_type": "markdown",
   "metadata": {},
   "source": [
    "# Ethics & Privacy"
   ]
  },
  {
   "cell_type": "markdown",
   "metadata": {},
   "source": [
    " \n",
    "- Data will be public and/or licensed so we have the right to access it. \n",
    "- The identity of the participants will not be disclosed.  \n",
    "- There might be bias in the maternity leave data since it is a crowdsourced data and may be inaccurate. \n",
    "- There might be racial bias within the data that we are not able to detect due to the identities being unknown. \n",
    "- The factors we have chosen to identify an ideal work industry is subjective and might not be what others will consider ideal factors. \n",
    "- We will acknowledge the bias and keep them in mind before concluding generalizations. \n"
   ]
  },
  {
   "cell_type": "markdown",
   "metadata": {},
   "source": [
    "# Team Guidelines"
   ]
  },
  {
   "cell_type": "markdown",
   "metadata": {},
   "source": [
    "- We will communicate through a group chat on facebook messenger since that is an app we all use. \n",
    "- Everyone should complete their assigned tasks/sections to the best of their abilities. If there are challenges we should work together to solve them\n",
    "- Meet during the weekly meeting time\n",
    "- Catch up on material if you are unable to attend the meetings\n"
   ]
  },
  {
   "cell_type": "markdown",
   "metadata": {},
   "source": [
    "# Project Timeline Proposal"
   ]
  },
  {
   "cell_type": "markdown",
   "metadata": {},
   "source": [
    "Meeting Time: 7:30 PM\n",
    "\n",
    "4/22: \n",
    "- Read & Think about COGS 108 expectations; brainstorm topics/questions\n",
    "- Determine best form of communication; Discuss and decide on final project topic; discuss hypothesis; begin background research\n",
    "\n",
    "4/23:\n",
    "- Do background research on topic\n",
    "- Discuss ideal dataset(s) and ethics; draft project proposal\n",
    "\n",
    "4/29:\n",
    "- Edit, finalize, and submit proposal; Search for datasets\n",
    "- Discuss Wrangling and possible analytical approaches; Assign group members to lead each specific part\n",
    "\n",
    "5/6\n",
    "- Import & Wrangle Data; EDA \n",
    "- Review/Edit wrangling/EDA; Discuss Analysis Plan\n",
    "\n",
    "5/13\n",
    "- Finalize wrangling/EDA; Begin Analysis \n",
    "- Discuss/edit Analysis; Complete project check-in\n",
    "\n",
    "5/20\n",
    "- Complete analysis; Draft results/conclusion/discussion \n",
    "- Discuss/edit full project\n",
    "\n",
    "6/2, before 11:59 PM\n",
    "- Finalize draft and analysis, final edits\n",
    "- Turn in Final Project & Group Project Surveys\n"
   ]
  }
 ],
 "metadata": {
  "kernelspec": {
   "display_name": "Python 3",
   "language": "python",
   "name": "python3"
  },
  "language_info": {
   "codemirror_mode": {
    "name": "ipython",
    "version": 3
   },
   "file_extension": ".py",
   "mimetype": "text/x-python",
   "name": "python",
   "nbconvert_exporter": "python",
   "pygments_lexer": "ipython3",
   "version": "3.6.7"
  }
 },
 "nbformat": 4,
 "nbformat_minor": 2
}

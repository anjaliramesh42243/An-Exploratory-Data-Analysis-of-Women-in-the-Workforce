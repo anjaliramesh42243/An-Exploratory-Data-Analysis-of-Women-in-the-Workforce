{
 "cells": [
  {
   "cell_type": "markdown",
   "metadata": {},
   "source": [
    "# COGS 108 - Final Project"
   ]
  },
  {
   "cell_type": "markdown",
   "metadata": {},
   "source": [
    "## Permissions"
   ]
  },
  {
   "cell_type": "markdown",
   "metadata": {},
   "source": [
    "- [X] YES - make available\n",
    "- [ ] NO - keep private"
   ]
  },
  {
   "cell_type": "markdown",
   "metadata": {},
   "source": [
    "## Overview"
   ]
  },
  {
   "cell_type": "markdown",
   "metadata": {},
   "source": [
    " \n"
   ]
  },
  {
   "cell_type": "markdown",
   "metadata": {},
   "source": [
    "## Names"
   ]
  },
  {
   "cell_type": "markdown",
   "metadata": {},
   "source": [
    "- Gaurika Duvur\n",
    "- Anjali Ramesh\n",
    "- Apurwa Shukla\n",
    "- Vicky Vo"
   ]
  },
  {
   "cell_type": "markdown",
   "metadata": {},
   "source": [
    "## Group Members IDs"
   ]
  },
  {
   "cell_type": "markdown",
   "metadata": {},
   "source": [
    "- A14461573\n",
    "- A15524912\n",
    "- A14024123\n",
    "- A13950829"
   ]
  },
  {
   "cell_type": "markdown",
   "metadata": {},
   "source": [
    "## Research Question"
   ]
  },
  {
   "cell_type": "markdown",
   "metadata": {},
   "source": [
    "What industry can we predict will have an increase in female workers based on the following factors: females in management/administrative positions, income gap between males and females, and maternity leave policies?"
   ]
  },
  {
   "cell_type": "markdown",
   "metadata": {},
   "source": [
    "## Background and Prior Work"
   ]
  },
  {
   "cell_type": "markdown",
   "metadata": {},
   "source": [
    "  This topic is of interest to our group because, as female students preparing to enter the workforce, particularly in male dominated STEM fields, we have noticed the increased attention on the disparity between male and female workers throughout industries, and factors that contribute to this gap. Since there are certain states that are better than others when it comes to wage disparity and earnings, there must also be certain industries that are more beneficial for women (3). We wanted to learn more about the components that affect a woman’s success in a specific field in order to be able to predict the industries that are the most profitable for women today. \n",
    "\n",
    "   There has been research done on different aspects of female employment, such as income, paid and unpaid leave, socioeconomic status, and education. With regards to COGS 108 in particular, there is a project focusing on the effect of maternity leave on female involvement in the workforce, which takes into consideration aspects of our research question (1). The results of this project conclude that there was a stronger effect of maternity leave on female participation in the workforce than participation on maternity leave. Another project describes policies surrounding acceptance rates of women in STEM careers and whether or not these policies are fair (2). This project shows that there is not much of an inequality between hiring rates of men and women in STEM fields, and that the proportion of men and women working in these fields is fairly equal. Both these projects use data that could be useful to answering our research question. \n",
    "    \n",
    "    \n",
    "References (include links):\n",
    "1. https://github.com/COGS108/FinalProjects-Wi20/blob/master/FinalProject_group069.ipynb\n",
    "2. https://github.com/COGS108/FinalProjects-Wi20/blob/master/FinalProject_group093.ipynb"
   ]
  },
  {
   "cell_type": "markdown",
   "metadata": {},
   "source": [
    "## Hypothesis"
   ]
  },
  {
   "cell_type": "markdown",
   "metadata": {},
   "source": [
    "## Datasets\n"
   ]
  },
  {
   "cell_type": "markdown",
   "metadata": {},
   "source": [
    "The ideal dataset would include the proportion of the labor force in that occupation that are women, their average income in that industry (as well as how that income differs between male and female workers), and the average number of weeks of paid maternity leave offered in that industry.\n"
   ]
  },
  {
   "cell_type": "markdown",
   "metadata": {},
   "source": [
    "### Dataset 1"
   ]
  },
  {
   "cell_type": "markdown",
   "metadata": {},
   "source": [
    "Name: Proportion of women in managerial positions\n",
    "\n",
    "Link: https://genderstats.un.org/#/downloads\n",
    "\n",
    "Configuration: Indicator name, Country Code, Region, Year, Sex, Age, Location, Occupation, Value, Lower Bound, Upper Bound, Unit, Nature Data, Origin Data, Footnote 1, Footnote 2 (this data must be cleaned appropriately before use)\n",
    "\n",
    "Number of observations: 1908\n",
    "\n",
    "Description: The United Nations provides data on the percentage of women in senior and middle management positions in various countries around the world. (For the purposes of this analysis, we will be focusing on the United States.)\n"
   ]
  },
  {
   "cell_type": "markdown",
   "metadata": {},
   "source": [
    "### Dataset 2"
   ]
  },
  {
   "cell_type": "markdown",
   "metadata": {},
   "source": [
    "Name: Proportion of women in senior and middle management positions\n",
    "\n",
    "Link: https://genderstats.un.org/#/downloads\n",
    "\n",
    "Configuration: Indicator name, Country Code, Region, Year, Sex, Age, Location, Occupation, Value, Lower Bound, Upper Bound, Unit, Nature Data, Origin Data, Footnote 1, Footnote 2 (this data must be cleaned appropriately before use)\n",
    "\n",
    "Number of observations: 427\n",
    "\n",
    "Description: The United Nations provides data on the proportion of women in senior and middle management positiosn around the world. (For the purposes of this analysis, we will be focusing on the United States.)"
   ]
  },
  {
   "cell_type": "markdown",
   "metadata": {},
   "source": [
    "### Dataset 3"
   ]
  },
  {
   "cell_type": "markdown",
   "metadata": {},
   "source": [
    "Name: \n",
    "\n",
    "Link: https://www.kaggle.com/jonavery/notebook?select=inc_occ_gender.csv\n",
    "\n",
    "Configuration: These are the categories the data is divided into\n",
    "- Occupation: Job title as given from BLS. Industry summaries are given in ALL CAPS.\n",
    "- All_workers: Number of workers male and female, in thousands.\n",
    "- All_weekly: Median weekly income including male and female workers, in USD.\n",
    "- M_workers: Number of male workers, in thousands.\n",
    "- M_weekly: Median weekly income for male workers, in USD.\n",
    "- F_workers: Number of female workers, in thousands.\n",
    "- F_weekly: Median weekly income for female workers, in USD.\n",
    "\n",
    "Number of observations: __________\n",
    "\n",
    "Description: The dataset on US incomes by occupation and gender provides data on median weekly income of male and female in 535 different occupations. This dataset has been retrieved from the bureau of labor statistics."
   ]
  },
  {
   "cell_type": "markdown",
   "metadata": {},
   "source": [
    "### Dataset 4"
   ]
  },
  {
   "cell_type": "markdown",
   "metadata": {},
   "source": [
    "Name: _______\n",
    "\n",
    "Link: ______\n",
    "\n",
    "Configuration: _______\n",
    "\n",
    "Number of observations: 965\n",
    "\n",
    "Description: _____"
   ]
  },
  {
   "cell_type": "markdown",
   "metadata": {},
   "source": [
    "## Setup"
   ]
  },
  {
   "cell_type": "code",
   "execution_count": 1,
   "metadata": {},
   "outputs": [],
   "source": [
    "%matplotlib inline\n",
    "\n",
    "# Import libraries\n",
    "import numpy as np\n",
    "import pandas as pd\n",
    "\n",
    "import seaborn as sns; sns.set()\n",
    "import matplotlib.pyplot as plt\n",
    "import statsmodels.api as sm\n",
    "import patsy"
   ]
  },
  {
   "cell_type": "markdown",
   "metadata": {},
   "source": [
    "## Data Cleaning"
   ]
  },
  {
   "cell_type": "markdown",
   "metadata": {},
   "source": [
    "### Datasets 1 and 2"
   ]
  },
  {
   "cell_type": "markdown",
   "metadata": {},
   "source": [
    "In order to clean these datasets, I had to take out all the unneeded columns that contained information that I didn't need to use. Since these datasets are sourced from the United Nations, I had to choose only the data from the United States, since this was the part of the data that we were interested in. I also took out all the null values and empty columns that did not add valuable information to my analysis. "
   ]
  },
  {
   "cell_type": "code",
   "execution_count": 2,
   "metadata": {},
   "outputs": [],
   "source": [
    "sns.set(rc={'figure.figsize':(11.7,8.27)})"
   ]
  },
  {
   "cell_type": "code",
   "execution_count": 3,
   "metadata": {},
   "outputs": [],
   "source": [
    "df_management = pd.read_csv(\"managerialpostions.csv\")\n",
    "df_management.head()\n",
    "df_management_us = df_management[df_management.Country == \"United States of America\"]"
   ]
  },
  {
   "cell_type": "code",
   "execution_count": 4,
   "metadata": {},
   "outputs": [],
   "source": [
    "df_senior = pd.read_csv(\"senior_management_positions.csv\")\n",
    "df_senior_us = df_senior[df_senior.Country == \"United States of America\"]"
   ]
  },
  {
   "cell_type": "code",
   "execution_count": 5,
   "metadata": {},
   "outputs": [
    {
     "data": {
      "text/html": [
       "<div>\n",
       "<style scoped>\n",
       "    .dataframe tbody tr th:only-of-type {\n",
       "        vertical-align: middle;\n",
       "    }\n",
       "\n",
       "    .dataframe tbody tr th {\n",
       "        vertical-align: top;\n",
       "    }\n",
       "\n",
       "    .dataframe thead th {\n",
       "        text-align: right;\n",
       "    }\n",
       "</style>\n",
       "<table border=\"1\" class=\"dataframe\">\n",
       "  <thead>\n",
       "    <tr style=\"text-align: right;\">\n",
       "      <th></th>\n",
       "      <th>Indicator Name</th>\n",
       "      <th>Region</th>\n",
       "      <th>Country Code</th>\n",
       "      <th>Country</th>\n",
       "      <th>Year</th>\n",
       "      <th>Sex</th>\n",
       "      <th>Value</th>\n",
       "      <th>Unit</th>\n",
       "      <th>NatureData</th>\n",
       "    </tr>\n",
       "  </thead>\n",
       "  <tbody>\n",
       "    <tr>\n",
       "      <th>792</th>\n",
       "      <td>Proportion of women in managerial positions</td>\n",
       "      <td>Developed regions</td>\n",
       "      <td>840</td>\n",
       "      <td>United States of America</td>\n",
       "      <td>2003</td>\n",
       "      <td>Female</td>\n",
       "      <td>37.5</td>\n",
       "      <td>Percentage</td>\n",
       "      <td>Country data</td>\n",
       "    </tr>\n",
       "    <tr>\n",
       "      <th>793</th>\n",
       "      <td>Proportion of women in managerial positions</td>\n",
       "      <td>Developed regions</td>\n",
       "      <td>840</td>\n",
       "      <td>United States of America</td>\n",
       "      <td>2008</td>\n",
       "      <td>Female</td>\n",
       "      <td>38.3</td>\n",
       "      <td>Percentage</td>\n",
       "      <td>Country data</td>\n",
       "    </tr>\n",
       "    <tr>\n",
       "      <th>794</th>\n",
       "      <td>Proportion of women in managerial positions</td>\n",
       "      <td>Developed regions</td>\n",
       "      <td>840</td>\n",
       "      <td>United States of America</td>\n",
       "      <td>2000</td>\n",
       "      <td>Female</td>\n",
       "      <td>36.0</td>\n",
       "      <td>Percentage</td>\n",
       "      <td>Country data</td>\n",
       "    </tr>\n",
       "    <tr>\n",
       "      <th>795</th>\n",
       "      <td>Proportion of women in managerial positions</td>\n",
       "      <td>Developed regions</td>\n",
       "      <td>840</td>\n",
       "      <td>United States of America</td>\n",
       "      <td>2005</td>\n",
       "      <td>Female</td>\n",
       "      <td>37.8</td>\n",
       "      <td>Percentage</td>\n",
       "      <td>Country data</td>\n",
       "    </tr>\n",
       "    <tr>\n",
       "      <th>796</th>\n",
       "      <td>Proportion of women in managerial positions</td>\n",
       "      <td>Developed regions</td>\n",
       "      <td>840</td>\n",
       "      <td>United States of America</td>\n",
       "      <td>2007</td>\n",
       "      <td>Female</td>\n",
       "      <td>38.4</td>\n",
       "      <td>Percentage</td>\n",
       "      <td>Country data</td>\n",
       "    </tr>\n",
       "  </tbody>\n",
       "</table>\n",
       "</div>"
      ],
      "text/plain": [
       "                                  Indicator Name             Region  \\\n",
       "792  Proportion of women in managerial positions  Developed regions   \n",
       "793  Proportion of women in managerial positions  Developed regions   \n",
       "794  Proportion of women in managerial positions  Developed regions   \n",
       "795  Proportion of women in managerial positions  Developed regions   \n",
       "796  Proportion of women in managerial positions  Developed regions   \n",
       "\n",
       "     Country Code                   Country  Year     Sex  Value        Unit  \\\n",
       "792           840  United States of America  2003  Female   37.5  Percentage   \n",
       "793           840  United States of America  2008  Female   38.3  Percentage   \n",
       "794           840  United States of America  2000  Female   36.0  Percentage   \n",
       "795           840  United States of America  2005  Female   37.8  Percentage   \n",
       "796           840  United States of America  2007  Female   38.4  Percentage   \n",
       "\n",
       "       NatureData  \n",
       "792  Country data  \n",
       "793  Country data  \n",
       "794  Country data  \n",
       "795  Country data  \n",
       "796  Country data  "
      ]
     },
     "execution_count": 5,
     "metadata": {},
     "output_type": "execute_result"
    }
   ],
   "source": [
    "df_management_us = df_management_us.drop(columns =[\"Age\", \"Location\", \"Occupation\", \"LowerBound\", \"UpperBound\", \"OriginData\", \"Footnote1\", \"Footnote2\"]) \n",
    "df_management_us.head()"
   ]
  },
  {
   "cell_type": "code",
   "execution_count": 6,
   "metadata": {},
   "outputs": [
    {
     "data": {
      "text/html": [
       "<div>\n",
       "<style scoped>\n",
       "    .dataframe tbody tr th:only-of-type {\n",
       "        vertical-align: middle;\n",
       "    }\n",
       "\n",
       "    .dataframe tbody tr th {\n",
       "        vertical-align: top;\n",
       "    }\n",
       "\n",
       "    .dataframe thead th {\n",
       "        text-align: right;\n",
       "    }\n",
       "</style>\n",
       "<table border=\"1\" class=\"dataframe\">\n",
       "  <thead>\n",
       "    <tr style=\"text-align: right;\">\n",
       "      <th></th>\n",
       "      <th>Indicator Name</th>\n",
       "      <th>Region</th>\n",
       "      <th>Country Code</th>\n",
       "      <th>Country</th>\n",
       "      <th>Year</th>\n",
       "      <th>Sex</th>\n",
       "      <th>Value</th>\n",
       "      <th>Unit</th>\n",
       "      <th>NatureData</th>\n",
       "    </tr>\n",
       "  </thead>\n",
       "  <tbody>\n",
       "    <tr>\n",
       "      <th>588</th>\n",
       "      <td>Proportion of women in senior and middle manag...</td>\n",
       "      <td>Developed regions</td>\n",
       "      <td>840</td>\n",
       "      <td>United States of America</td>\n",
       "      <td>2003</td>\n",
       "      <td>Female</td>\n",
       "      <td>37.3</td>\n",
       "      <td>Percentage</td>\n",
       "      <td>Country data</td>\n",
       "    </tr>\n",
       "    <tr>\n",
       "      <th>589</th>\n",
       "      <td>Proportion of women in senior and middle manag...</td>\n",
       "      <td>Developed regions</td>\n",
       "      <td>840</td>\n",
       "      <td>United States of America</td>\n",
       "      <td>2008</td>\n",
       "      <td>Female</td>\n",
       "      <td>37.9</td>\n",
       "      <td>Percentage</td>\n",
       "      <td>Country data</td>\n",
       "    </tr>\n",
       "    <tr>\n",
       "      <th>590</th>\n",
       "      <td>Proportion of women in senior and middle manag...</td>\n",
       "      <td>Developed regions</td>\n",
       "      <td>840</td>\n",
       "      <td>United States of America</td>\n",
       "      <td>2000</td>\n",
       "      <td>Female</td>\n",
       "      <td>35.5</td>\n",
       "      <td>Percentage</td>\n",
       "      <td>Country data</td>\n",
       "    </tr>\n",
       "    <tr>\n",
       "      <th>591</th>\n",
       "      <td>Proportion of women in senior and middle manag...</td>\n",
       "      <td>Developed regions</td>\n",
       "      <td>840</td>\n",
       "      <td>United States of America</td>\n",
       "      <td>2005</td>\n",
       "      <td>Female</td>\n",
       "      <td>37.5</td>\n",
       "      <td>Percentage</td>\n",
       "      <td>Country data</td>\n",
       "    </tr>\n",
       "    <tr>\n",
       "      <th>592</th>\n",
       "      <td>Proportion of women in senior and middle manag...</td>\n",
       "      <td>Developed regions</td>\n",
       "      <td>840</td>\n",
       "      <td>United States of America</td>\n",
       "      <td>2007</td>\n",
       "      <td>Female</td>\n",
       "      <td>38.1</td>\n",
       "      <td>Percentage</td>\n",
       "      <td>Country data</td>\n",
       "    </tr>\n",
       "  </tbody>\n",
       "</table>\n",
       "</div>"
      ],
      "text/plain": [
       "                                        Indicator Name             Region  \\\n",
       "588  Proportion of women in senior and middle manag...  Developed regions   \n",
       "589  Proportion of women in senior and middle manag...  Developed regions   \n",
       "590  Proportion of women in senior and middle manag...  Developed regions   \n",
       "591  Proportion of women in senior and middle manag...  Developed regions   \n",
       "592  Proportion of women in senior and middle manag...  Developed regions   \n",
       "\n",
       "     Country Code                   Country  Year     Sex  Value        Unit  \\\n",
       "588           840  United States of America  2003  Female   37.3  Percentage   \n",
       "589           840  United States of America  2008  Female   37.9  Percentage   \n",
       "590           840  United States of America  2000  Female   35.5  Percentage   \n",
       "591           840  United States of America  2005  Female   37.5  Percentage   \n",
       "592           840  United States of America  2007  Female   38.1  Percentage   \n",
       "\n",
       "       NatureData  \n",
       "588  Country data  \n",
       "589  Country data  \n",
       "590  Country data  \n",
       "591  Country data  \n",
       "592  Country data  "
      ]
     },
     "execution_count": 6,
     "metadata": {},
     "output_type": "execute_result"
    }
   ],
   "source": [
    "df_senior_us = df_senior_us.drop(columns = [\"Age\", \"Location\", \"Occupation\", \"LowerBound\", \"UpperBound\", \"OriginData\", \"Footnote1\", \"Footnote2\", \"Footnote3\", \"Footnote4\", \"Footnote5\", \"Footnote6\", \"Coverage\"]) \n",
    "df_senior_us.head()"
   ]
  },
  {
   "cell_type": "code",
   "execution_count": 7,
   "metadata": {},
   "outputs": [
    {
     "data": {
      "text/html": [
       "<div>\n",
       "<style scoped>\n",
       "    .dataframe tbody tr th:only-of-type {\n",
       "        vertical-align: middle;\n",
       "    }\n",
       "\n",
       "    .dataframe tbody tr th {\n",
       "        vertical-align: top;\n",
       "    }\n",
       "\n",
       "    .dataframe thead th {\n",
       "        text-align: right;\n",
       "    }\n",
       "</style>\n",
       "<table border=\"1\" class=\"dataframe\">\n",
       "  <thead>\n",
       "    <tr style=\"text-align: right;\">\n",
       "      <th></th>\n",
       "      <th>Indicator Name</th>\n",
       "      <th>Region</th>\n",
       "      <th>Country Code</th>\n",
       "      <th>Country</th>\n",
       "      <th>Year</th>\n",
       "      <th>Sex</th>\n",
       "      <th>Value</th>\n",
       "      <th>Unit</th>\n",
       "      <th>NatureData</th>\n",
       "    </tr>\n",
       "  </thead>\n",
       "  <tbody>\n",
       "    <tr>\n",
       "      <th>0</th>\n",
       "      <td>Proportion of women in managerial positions</td>\n",
       "      <td>Developed regions</td>\n",
       "      <td>840</td>\n",
       "      <td>United States of America</td>\n",
       "      <td>2000</td>\n",
       "      <td>Female</td>\n",
       "      <td>36.0</td>\n",
       "      <td>Percentage</td>\n",
       "      <td>Country data</td>\n",
       "    </tr>\n",
       "    <tr>\n",
       "      <th>1</th>\n",
       "      <td>Proportion of women in managerial positions</td>\n",
       "      <td>Developed regions</td>\n",
       "      <td>840</td>\n",
       "      <td>United States of America</td>\n",
       "      <td>2000</td>\n",
       "      <td>Female</td>\n",
       "      <td>35.5</td>\n",
       "      <td>Percentage</td>\n",
       "      <td>Country data</td>\n",
       "    </tr>\n",
       "    <tr>\n",
       "      <th>2</th>\n",
       "      <td>Proportion of women in managerial positions</td>\n",
       "      <td>Developed regions</td>\n",
       "      <td>840</td>\n",
       "      <td>United States of America</td>\n",
       "      <td>2001</td>\n",
       "      <td>Female</td>\n",
       "      <td>35.9</td>\n",
       "      <td>Percentage</td>\n",
       "      <td>Country data</td>\n",
       "    </tr>\n",
       "    <tr>\n",
       "      <th>3</th>\n",
       "      <td>Proportion of women in managerial positions</td>\n",
       "      <td>Developed regions</td>\n",
       "      <td>840</td>\n",
       "      <td>United States of America</td>\n",
       "      <td>2001</td>\n",
       "      <td>Female</td>\n",
       "      <td>36.4</td>\n",
       "      <td>Percentage</td>\n",
       "      <td>Country data</td>\n",
       "    </tr>\n",
       "    <tr>\n",
       "      <th>4</th>\n",
       "      <td>Proportion of women in managerial positions</td>\n",
       "      <td>Developed regions</td>\n",
       "      <td>840</td>\n",
       "      <td>United States of America</td>\n",
       "      <td>2002</td>\n",
       "      <td>Female</td>\n",
       "      <td>36.4</td>\n",
       "      <td>Percentage</td>\n",
       "      <td>Country data</td>\n",
       "    </tr>\n",
       "  </tbody>\n",
       "</table>\n",
       "</div>"
      ],
      "text/plain": [
       "                                Indicator Name             Region  \\\n",
       "0  Proportion of women in managerial positions  Developed regions   \n",
       "1  Proportion of women in managerial positions  Developed regions   \n",
       "2  Proportion of women in managerial positions  Developed regions   \n",
       "3  Proportion of women in managerial positions  Developed regions   \n",
       "4  Proportion of women in managerial positions  Developed regions   \n",
       "\n",
       "   Country Code                   Country  Year     Sex  Value        Unit  \\\n",
       "0           840  United States of America  2000  Female   36.0  Percentage   \n",
       "1           840  United States of America  2000  Female   35.5  Percentage   \n",
       "2           840  United States of America  2001  Female   35.9  Percentage   \n",
       "3           840  United States of America  2001  Female   36.4  Percentage   \n",
       "4           840  United States of America  2002  Female   36.4  Percentage   \n",
       "\n",
       "     NatureData  \n",
       "0  Country data  \n",
       "1  Country data  \n",
       "2  Country data  \n",
       "3  Country data  \n",
       "4  Country data  "
      ]
     },
     "execution_count": 7,
     "metadata": {},
     "output_type": "execute_result"
    }
   ],
   "source": [
    "df_manage = pd.concat([df_management_us, df_senior_us], ignore_index=True)\n",
    "df_manage = df_manage.replace({'Indicator Name': \"Proportion of women in senior and middle management positions\"}, \"Proportion of women in managerial positions\")\n",
    "df_manage = df_manage.sort_values('Year')\n",
    "df_manage = df_manage.reset_index(drop=True)\n",
    "df_manage.head()"
   ]
  },
  {
   "cell_type": "markdown",
   "metadata": {},
   "source": [
    "## Data Analysis & Results"
   ]
  },
  {
   "cell_type": "markdown",
   "metadata": {},
   "source": [
    "### Datasets 1 and 2"
   ]
  },
  {
   "cell_type": "code",
   "execution_count": 8,
   "metadata": {},
   "outputs": [
    {
     "data": {
      "text/html": [
       "<div>\n",
       "<style scoped>\n",
       "    .dataframe tbody tr th:only-of-type {\n",
       "        vertical-align: middle;\n",
       "    }\n",
       "\n",
       "    .dataframe tbody tr th {\n",
       "        vertical-align: top;\n",
       "    }\n",
       "\n",
       "    .dataframe thead th {\n",
       "        text-align: right;\n",
       "    }\n",
       "</style>\n",
       "<table border=\"1\" class=\"dataframe\">\n",
       "  <thead>\n",
       "    <tr style=\"text-align: right;\">\n",
       "      <th></th>\n",
       "      <th>Country Code</th>\n",
       "      <th>Year</th>\n",
       "      <th>Value</th>\n",
       "    </tr>\n",
       "  </thead>\n",
       "  <tbody>\n",
       "    <tr>\n",
       "      <th>count</th>\n",
       "      <td>36.0</td>\n",
       "      <td>36.000000</td>\n",
       "      <td>36.000000</td>\n",
       "    </tr>\n",
       "    <tr>\n",
       "      <th>mean</th>\n",
       "      <td>840.0</td>\n",
       "      <td>2008.500000</td>\n",
       "      <td>38.147222</td>\n",
       "    </tr>\n",
       "    <tr>\n",
       "      <th>std</th>\n",
       "      <td>0.0</td>\n",
       "      <td>5.261722</td>\n",
       "      <td>1.262534</td>\n",
       "    </tr>\n",
       "    <tr>\n",
       "      <th>min</th>\n",
       "      <td>840.0</td>\n",
       "      <td>2000.000000</td>\n",
       "      <td>35.500000</td>\n",
       "    </tr>\n",
       "    <tr>\n",
       "      <th>25%</th>\n",
       "      <td>840.0</td>\n",
       "      <td>2004.000000</td>\n",
       "      <td>37.300000</td>\n",
       "    </tr>\n",
       "    <tr>\n",
       "      <th>50%</th>\n",
       "      <td>840.0</td>\n",
       "      <td>2008.500000</td>\n",
       "      <td>38.300000</td>\n",
       "    </tr>\n",
       "    <tr>\n",
       "      <th>75%</th>\n",
       "      <td>840.0</td>\n",
       "      <td>2013.000000</td>\n",
       "      <td>39.025000</td>\n",
       "    </tr>\n",
       "    <tr>\n",
       "      <th>max</th>\n",
       "      <td>840.0</td>\n",
       "      <td>2017.000000</td>\n",
       "      <td>40.500000</td>\n",
       "    </tr>\n",
       "  </tbody>\n",
       "</table>\n",
       "</div>"
      ],
      "text/plain": [
       "       Country Code         Year      Value\n",
       "count          36.0    36.000000  36.000000\n",
       "mean          840.0  2008.500000  38.147222\n",
       "std             0.0     5.261722   1.262534\n",
       "min           840.0  2000.000000  35.500000\n",
       "25%           840.0  2004.000000  37.300000\n",
       "50%           840.0  2008.500000  38.300000\n",
       "75%           840.0  2013.000000  39.025000\n",
       "max           840.0  2017.000000  40.500000"
      ]
     },
     "execution_count": 8,
     "metadata": {},
     "output_type": "execute_result"
    }
   ],
   "source": [
    "df_manage.describe()"
   ]
  },
  {
   "cell_type": "markdown",
   "metadata": {},
   "source": [
    "This chart shows the basic description of the proportion of women in management positions over the course of 17 years. We can ignore the \"Country Code\" and \"Year\" column, as those are not the variables that we want to describe. When we look at the statistical description of the column \"Value\", we can see that the smallest proportion of women was 35.5% in the year 2000, and that this percentage has increased to 40.5% in the year 2017. "
   ]
  },
  {
   "cell_type": "code",
   "execution_count": 9,
   "metadata": {},
   "outputs": [
    {
     "data": {
      "text/plain": [
       "Text(0.5, 1.0, 'Proportion of Women in Management Positions from 2000 to 2017')"
      ]
     },
     "execution_count": 9,
     "metadata": {},
     "output_type": "execute_result"
    },
    {
     "data": {
      "image/png": "[encoded data removed]",
      "text/plain": [
       "<Figure size 842.4x595.44 with 1 Axes>"
      ]
     },
     "metadata": {},
     "output_type": "display_data"
    }
   ],
   "source": [
    "ax = sns.scatterplot(x=\"Year\", y=\"Value\", data=df_manage)\n",
    "ax.set_title(\"Proportion of Women in Management Positions from 2000 to 2017\")"
   ]
  },
  {
   "cell_type": "markdown",
   "metadata": {},
   "source": [
    "From this inital scatterplot created by plotting the proportion of women in management positions versus the year of the observation, we can already tell that there is a strong positive relationship between these two variables. \n",
    "\n",
    "However, to be sure of this, we can go on to perform a linear regression analysis to find out the strength of this relationship.\n",
    "\n",
    "The type of linear regression that we will be performing is an Ordinary Least Squares analysis, which means that we are fitting a regression line that would minimize the square of distance from the regression line."
   ]
  },
  {
   "cell_type": "code",
   "execution_count": 10,
   "metadata": {},
   "outputs": [
    {
     "data": {
      "text/html": [
       "<table class=\"simpletable\">\n",
       "<caption>OLS Regression Results</caption>\n",
       "<tr>\n",
       "  <th>Dep. Variable:</th>          <td>Value</td>      <th>  R-squared:         </th> <td>   0.999</td> \n",
       "</tr>\n",
       "<tr>\n",
       "  <th>Model:</th>                   <td>OLS</td>       <th>  Adj. R-squared:    </th> <td>   0.999</td> \n",
       "</tr>\n",
       "<tr>\n",
       "  <th>Method:</th>             <td>Least Squares</td>  <th>  F-statistic:       </th> <td>3.844e+04</td>\n",
       "</tr>\n",
       "<tr>\n",
       "  <th>Date:</th>             <td>Thu, 11 Jun 2020</td> <th>  Prob (F-statistic):</th> <td>8.08e-55</td> \n",
       "</tr>\n",
       "<tr>\n",
       "  <th>Time:</th>                 <td>23:31:46</td>     <th>  Log-Likelihood:    </th> <td> -56.149</td> \n",
       "</tr>\n",
       "<tr>\n",
       "  <th>No. Observations:</th>      <td>    36</td>      <th>  AIC:               </th> <td>   114.3</td> \n",
       "</tr>\n",
       "<tr>\n",
       "  <th>Df Residuals:</th>          <td>    35</td>      <th>  BIC:               </th> <td>   115.9</td> \n",
       "</tr>\n",
       "<tr>\n",
       "  <th>Df Model:</th>              <td>     1</td>      <th>                     </th>     <td> </td>    \n",
       "</tr>\n",
       "<tr>\n",
       "  <th>Covariance Type:</th>      <td>nonrobust</td>    <th>                     </th>     <td> </td>    \n",
       "</tr>\n",
       "</table>\n",
       "<table class=\"simpletable\">\n",
       "<tr>\n",
       "    <td></td>      <th>coef</th>     <th>std err</th>      <th>t</th>      <th>P>|t|</th>  <th>[0.025</th>    <th>0.975]</th>  \n",
       "</tr>\n",
       "<tr>\n",
       "  <th>Year</th> <td>    0.0190</td> <td> 9.69e-05</td> <td>  196.066</td> <td> 0.000</td> <td>    0.019</td> <td>    0.019</td>\n",
       "</tr>\n",
       "</table>\n",
       "<table class=\"simpletable\">\n",
       "<tr>\n",
       "  <th>Omnibus:</th>       <td> 0.829</td> <th>  Durbin-Watson:     </th> <td>   0.145</td>\n",
       "</tr>\n",
       "<tr>\n",
       "  <th>Prob(Omnibus):</th> <td> 0.661</td> <th>  Jarque-Bera (JB):  </th> <td>   0.879</td>\n",
       "</tr>\n",
       "<tr>\n",
       "  <th>Skew:</th>          <td>-0.241</td> <th>  Prob(JB):          </th> <td>   0.644</td>\n",
       "</tr>\n",
       "<tr>\n",
       "  <th>Kurtosis:</th>      <td> 2.406</td> <th>  Cond. No.          </th> <td>    1.00</td>\n",
       "</tr>\n",
       "</table><br/><br/>Warnings:<br/>[1] Standard Errors assume that the covariance matrix of the errors is correctly specified."
      ],
      "text/plain": [
       "<class 'statsmodels.iolib.summary.Summary'>\n",
       "\"\"\"\n",
       "                            OLS Regression Results                            \n",
       "==============================================================================\n",
       "Dep. Variable:                  Value   R-squared:                       0.999\n",
       "Model:                            OLS   Adj. R-squared:                  0.999\n",
       "Method:                 Least Squares   F-statistic:                 3.844e+04\n",
       "Date:                Thu, 11 Jun 2020   Prob (F-statistic):           8.08e-55\n",
       "Time:                        23:31:46   Log-Likelihood:                -56.149\n",
       "No. Observations:                  36   AIC:                             114.3\n",
       "Df Residuals:                      35   BIC:                             115.9\n",
       "Df Model:                           1                                         \n",
       "Covariance Type:            nonrobust                                         \n",
       "==============================================================================\n",
       "                 coef    std err          t      P>|t|      [0.025      0.975]\n",
       "------------------------------------------------------------------------------\n",
       "Year           0.0190   9.69e-05    196.066      0.000       0.019       0.019\n",
       "==============================================================================\n",
       "Omnibus:                        0.829   Durbin-Watson:                   0.145\n",
       "Prob(Omnibus):                  0.661   Jarque-Bera (JB):                0.879\n",
       "Skew:                          -0.241   Prob(JB):                        0.644\n",
       "Kurtosis:                       2.406   Cond. No.                         1.00\n",
       "==============================================================================\n",
       "\n",
       "Warnings:\n",
       "[1] Standard Errors assume that the covariance matrix of the errors is correctly specified.\n",
       "\"\"\""
      ]
     },
     "execution_count": 10,
     "metadata": {},
     "output_type": "execute_result"
    }
   ],
   "source": [
    "# X, or the year, is the independent variable, and Y, or the value/proportion of women, is the dependent value.\n",
    "X = df_manage[\"Year\"]\n",
    "y = df_manage[\"Value\"]\n",
    "\n",
    "# this carries out the Ordinary Least Squares analysis\n",
    "model = sm.OLS(y, X).fit()\n",
    "predictions = model.predict(X) # make the predictions by the model\n",
    "\n",
    "# Print out the statistics\n",
    "p = model.params\n",
    "model.summary()\n"
   ]
  },
  {
   "cell_type": "markdown",
   "metadata": {},
   "source": [
    "This table shows the coefficient of this regression to be 0.0190. This means that as the Year variable increases by 1, there will be a 0.0190 increase in the proportion of women in management positions. We can interpret this to mean that the proportion of women in management positions increases by around 1.9% each year. This trend has held steady from the year 2000.\n",
    "\n",
    "Based on this output, we can see that the R-squared value is 0.999, meaning that this model explains 99.9% of the variance in the proportion of women in management positions."
   ]
  },
  {
   "cell_type": "markdown",
   "metadata": {},
   "source": [
    "#### Visualizing Linear Regression"
   ]
  },
  {
   "cell_type": "code",
   "execution_count": 11,
   "metadata": {},
   "outputs": [
    {
     "data": {
      "text/html": [
       "<div>\n",
       "<style scoped>\n",
       "    .dataframe tbody tr th:only-of-type {\n",
       "        vertical-align: middle;\n",
       "    }\n",
       "\n",
       "    .dataframe tbody tr th {\n",
       "        vertical-align: top;\n",
       "    }\n",
       "\n",
       "    .dataframe thead th {\n",
       "        text-align: right;\n",
       "    }\n",
       "</style>\n",
       "<table border=\"1\" class=\"dataframe\">\n",
       "  <thead>\n",
       "    <tr style=\"text-align: right;\">\n",
       "      <th></th>\n",
       "      <th>Year</th>\n",
       "      <th>Value</th>\n",
       "    </tr>\n",
       "  </thead>\n",
       "  <tbody>\n",
       "    <tr>\n",
       "      <th>Year</th>\n",
       "      <td>1.000000</td>\n",
       "      <td>0.955019</td>\n",
       "    </tr>\n",
       "    <tr>\n",
       "      <th>Value</th>\n",
       "      <td>0.955019</td>\n",
       "      <td>1.000000</td>\n",
       "    </tr>\n",
       "  </tbody>\n",
       "</table>\n",
       "</div>"
      ],
      "text/plain": [
       "           Year     Value\n",
       "Year   1.000000  0.955019\n",
       "Value  0.955019  1.000000"
      ]
     },
     "execution_count": 11,
     "metadata": {},
     "output_type": "execute_result"
    }
   ],
   "source": [
    "df = pd.DataFrame(df_manage, columns=['Year', 'Value'])\n",
    "\n",
    "#Check correlation between Year and Value\n",
    "df.corr()\n"
   ]
  },
  {
   "cell_type": "code",
   "execution_count": 19,
   "metadata": {},
   "outputs": [
    {
     "data": {
      "text/plain": [
       "Text(0.5, 0.98, 'Linear Regression for Proportion of Women in Management Over Time')"
      ]
     },
     "execution_count": 19,
     "metadata": {},
     "output_type": "execute_result"
    },
    {
     "data": {
      "image/png": "[encoded data removed]",
      "text/plain": [
       "<Figure size 720x720 with 1 Axes>"
      ]
     },
     "metadata": {},
     "output_type": "display_data"
    }
   ],
   "source": [
    "sns.set_style('whitegrid') \n",
    "lm = sns.lmplot(x='Year', y='Value', data=df_manage)\n",
    "lm.fig.set_size_inches(10,10)\n",
    "g = lm.fig\n",
    "g.suptitle(\"Linear Regression for Proportion of Women in Management Over Time\", fontsize = 18)"
   ]
  },
  {
   "cell_type": "code",
   "execution_count": 20,
   "metadata": {},
   "outputs": [
    {
     "data": {
      "text/plain": [
       "pandas.core.series.Series"
      ]
     },
     "execution_count": 20,
     "metadata": {},
     "output_type": "execute_result"
    }
   ],
   "source": [
    "type(predictions)"
   ]
  },
  {
   "cell_type": "code",
   "execution_count": 21,
   "metadata": {},
   "outputs": [
    {
     "name": "stdout",
     "output_type": "stream",
     "text": [
      "0     37.988587\n",
      "1     37.988587\n",
      "2     38.007581\n",
      "3     38.007581\n",
      "4     38.026576\n",
      "5     38.026576\n",
      "6     38.045570\n",
      "7     38.045570\n",
      "8     38.064564\n",
      "9     38.064564\n",
      "10    38.083559\n",
      "11    38.083559\n",
      "12    38.102553\n",
      "13    38.102553\n",
      "14    38.121547\n",
      "15    38.121547\n",
      "16    38.140542\n",
      "17    38.140542\n",
      "18    38.159536\n",
      "19    38.159536\n",
      "20    38.178530\n",
      "21    38.178530\n",
      "22    38.197524\n",
      "23    38.197524\n",
      "24    38.216519\n",
      "25    38.216519\n",
      "26    38.235513\n",
      "27    38.235513\n",
      "28    38.254507\n",
      "29    38.254507\n",
      "30    38.273502\n",
      "31    38.273502\n",
      "32    38.292496\n",
      "33    38.292496\n",
      "34    38.311490\n",
      "35    38.311490\n"
     ]
    }
   ],
   "source": [
    "print(predictions.to_string())"
   ]
  },
  {
   "cell_type": "markdown",
   "metadata": {},
   "source": [
    "This list of predictions shows the predicted proportion of women in management in the coming years. This is based on the model that we fitted using the Ordinary Least Squares analysis, and shows the results for up to the next 35 years.\n",
    "\n",
    "For example, one way to interpret these predictions would be to say that in 5 years from 2017, or in 2022, the predicted percentage of women in senior and middle management positions would be around 38.03%. This shows the gradual increase in the proportion of women with the passing of time.\n",
    "\n",
    "However, there are some confounding factors that might have contributed to a skewed analaysis of these two variables. This could have been bias in the women that were observed, they might have all been chosen from the same industry, which could have been one that had a higher or lower than average proportion of women in management. Also, the definition of \"management positions\" could have too specific to generalize over an entire workforce of women, or maybe too general.\n",
    "\n",
    "With these preliminary results, I conclude that there has been a steady increase in the proportion of women in the workforce over the last 20 or so years, but there is still a long way to go before women make up 50% of people in management positions."
   ]
  },
  {
   "cell_type": "markdown",
   "metadata": {},
   "source": [
    "## Ethics and Privacy"
   ]
  },
  {
   "cell_type": "markdown",
   "metadata": {},
   "source": [
    "The data that we used was either public and/or licensed, so we had the right to access it. Also, the identity of the participants was not disclosed. If this was an issue in our data, it would have violated the basic confidentiality of the participants, and also violated the basic rules of ethics in data science. We did this using the Safe Harbour Method, which requires that specific identifiers such as telephone numbers, vehicle identifiers, and email addresses are removed from the data. This was somewhat simple to do, since the websites we got our data from were already available for public use. \n",
    "\n",
    "\n",
    "We do acknowledge that there might have been some bias in the maternity leave data from FairyGodBoss,  since it is crowdsourced data and may be inaccurate. There may have also been racial bias within the data that we were not able to detect due to the identities being unknown. Since adding race as a factor might somewhat skew the dataset or show evidence of a confounding variable, we chose to forego this as a variable. The factors we have chosen to identify an ideal work industry were subjective and might not be what others would have considered ideal factors. We acknowledge these biases and keep them in mind before concluding generalizations. \n"
   ]
  },
  {
   "cell_type": "markdown",
   "metadata": {},
   "source": [
    "## Conclusion and Discussion"
   ]
  },
  {
   "cell_type": "markdown",
   "metadata": {},
   "source": [
    "## Team Contributions"
   ]
  },
  {
   "cell_type": "markdown",
   "metadata": {},
   "source": []
  }
 ],
 "metadata": {
  "kernelspec": {
   "display_name": "Python 3",
   "language": "python",
   "name": "python3"
  },
  "language_info": {
   "codemirror_mode": {
    "name": "ipython",
    "version": 3
   },
   "file_extension": ".py",
   "mimetype": "text/x-python",
   "name": "python",
   "nbconvert_exporter": "python",
   "pygments_lexer": "ipython3",
   "version": "3.6.7"
  }
 },
 "nbformat": 4,
 "nbformat_minor": 2
}

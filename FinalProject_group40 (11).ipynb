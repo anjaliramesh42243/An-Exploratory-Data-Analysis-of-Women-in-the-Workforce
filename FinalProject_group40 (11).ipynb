{
 "cells": [
  {
   "cell_type": "markdown",
   "metadata": {},
   "source": [
    "# COGS 108 - Final Project"
   ]
  },
  {
   "cell_type": "markdown",
   "metadata": {},
   "source": [
    "## Permissions"
   ]
  },
  {
   "cell_type": "markdown",
   "metadata": {},
   "source": [
    "- [X] YES - make available\n",
    "- [ ] NO - keep private"
   ]
  },
  {
   "cell_type": "markdown",
   "metadata": {},
   "source": [
    "## Overview"
   ]
  },
  {
   "cell_type": "markdown",
   "metadata": {},
   "source": [
    " \n"
   ]
  },
  {
   "cell_type": "markdown",
   "metadata": {},
   "source": [
    "## Names"
   ]
  },
  {
   "cell_type": "markdown",
   "metadata": {},
   "source": [
    "- Gaurika Duvur\n",
    "- Anjali Ramesh\n",
    "- Apurwa Shukla\n",
    "- Vicky Vo"
   ]
  },
  {
   "cell_type": "markdown",
   "metadata": {},
   "source": [
    "## Group Members IDs"
   ]
  },
  {
   "cell_type": "markdown",
   "metadata": {},
   "source": [
    "- A14461573\n",
    "- A15524912\n",
    "- A14024123\n",
    "- A13950829"
   ]
  },
  {
   "cell_type": "markdown",
   "metadata": {},
   "source": [
    "## Research Question"
   ]
  },
  {
   "cell_type": "markdown",
   "metadata": {},
   "source": [
    "What industry can we predict will have an increase in female workers based on the following factors: females in management/administrative positions, income gap between males and females, and maternity leave policies?"
   ]
  },
  {
   "cell_type": "markdown",
   "metadata": {},
   "source": [
    "## Background and Prior Work"
   ]
  },
  {
   "cell_type": "markdown",
   "metadata": {},
   "source": [
    "  This topic is of interest to our group because, as female students preparing to enter the workforce, particularly in male dominated STEM fields, we have noticed the increased attention on the disparity between male and female workers throughout industries, and factors that contribute to this gap. Since there are certain states that are better than others when it comes to wage disparity and earnings, there must also be certain industries that are more beneficial for women (3). We wanted to learn more about the components that affect a woman’s success in a specific field in order to be able to predict the industries that are the most profitable for women today. \n",
    "\n",
    "   There has been research done on different aspects of female employment, such as income, paid and unpaid leave, socioeconomic status, and education. With regards to COGS 108 in particular, there is a project focusing on the effect of maternity leave on female involvement in the workforce, which takes into consideration aspects of our research question (1). The results of this project conclude that there was a stronger effect of maternity leave on female participation in the workforce than participation on maternity leave. Another project describes policies surrounding acceptance rates of women in STEM careers and whether or not these policies are fair (2). This project shows that there is not much of an inequality between hiring rates of men and women in STEM fields, and that the proportion of men and women working in these fields is fairly equal. Both these projects use data that could be useful to answering our research question. \n",
    "    \n",
    "    \n",
    "References (include links):\n",
    "1. https://github.com/COGS108/FinalProjects-Wi20/blob/master/FinalProject_group069.ipynb\n",
    "2. https://github.com/COGS108/FinalProjects-Wi20/blob/master/FinalProject_group093.ipynb"
   ]
  },
  {
   "cell_type": "markdown",
   "metadata": {},
   "source": [
    "## Hypothesis"
   ]
  },
  {
   "cell_type": "markdown",
   "metadata": {},
   "source": [
    "## Datasets\n"
   ]
  },
  {
   "cell_type": "markdown",
   "metadata": {},
   "source": [
    "The ideal dataset would include the proportion of the labor force in that occupation that are women, their average income in that industry (as well as how that income differs between male and female workers), and the average number of weeks of paid maternity leave offered in that industry.\n"
   ]
  },
  {
   "cell_type": "markdown",
   "metadata": {},
   "source": [
    "### Dataset 1"
   ]
  },
  {
   "cell_type": "markdown",
   "metadata": {},
   "source": [
    "Name: Proportion of women in managerial positions\n",
    "\n",
    "Link: https://genderstats.un.org/#/downloads\n",
    "\n",
    "Configuration: Indicator name, Country Code, Region, Year, Sex, Age, Location, Occupation, Value, Lower Bound, Upper Bound, Unit, Nature Data, Origin Data, Footnote 1, Footnote 2 (this data must be cleaned appropriately before use)\n",
    "\n",
    "Number of observations: 1908\n",
    "\n",
    "Description: The United Nations provides data on the percentage of women in senior and middle management positions in various countries around the world. (For the purposes of this analysis, we will be focusing on the United States.)\n"
   ]
  },
  {
   "cell_type": "markdown",
   "metadata": {},
   "source": [
    "### Dataset 2"
   ]
  },
  {
   "cell_type": "markdown",
   "metadata": {},
   "source": [
    "Name: Proportion of women in senior and middle management positions\n",
    "\n",
    "Link: https://genderstats.un.org/#/downloads\n",
    "\n",
    "Configuration: Indicator name, Country Code, Region, Year, Sex, Age, Location, Occupation, Value, Lower Bound, Upper Bound, Unit, Nature Data, Origin Data, Footnote 1, Footnote 2 (this data must be cleaned appropriately before use)\n",
    "\n",
    "Number of observations: 427\n",
    "\n",
    "Description: The United Nations provides data on the proportion of women in senior and middle management positiosn around the world. (For the purposes of this analysis, we will be focusing on the United States.)"
   ]
  },
  {
   "cell_type": "markdown",
   "metadata": {},
   "source": [
    "### Dataset 3"
   ]
  },
  {
   "cell_type": "markdown",
   "metadata": {},
   "source": [
    "Name: \n",
    "\n",
    "Link: https://www.kaggle.com/jonavery/incomes-by-career-and-gender\n",
    "\n",
    "\n",
    "Configuration: These are the categories the data is divided into\n",
    "- Occupation: Job title as given from BLS. Industry summaries are given in ALL CAPS.\n",
    "- All_workers: Number of workers male and female, in thousands.\n",
    "- All_weekly: Median weekly income including male and female workers, in USD.\n",
    "- M_workers: Number of male workers, in thousands.\n",
    "- M_weekly: Median weekly income for male workers, in USD.\n",
    "- F_workers: Number of female workers, in thousands.\n",
    "- F_weekly: Median weekly income for female workers, in USD.\n",
    "\n",
    "Number of observations: __________\n",
    "\n",
    "Description: The dataset on US incomes by occupation and gender provides data on median weekly income of male and female in 535 different occupations. This dataset has been retrieved from the bureau of labor statistics."
   ]
  },
  {
   "cell_type": "markdown",
   "metadata": {},
   "source": [
    "### Dataset 4"
   ]
  },
  {
   "cell_type": "markdown",
   "metadata": {},
   "source": [
    "Name: _______\n",
    "\n",
    "Link: ______\n",
    "\n",
    "Configuration: _______\n",
    "\n",
    "Number of observations: 965\n",
    "\n",
    "Description: _____"
   ]
  },
  {
   "cell_type": "markdown",
   "metadata": {},
   "source": [
    "## Setup"
   ]
  },
  {
   "cell_type": "code",
   "execution_count": 5,
   "metadata": {},
   "outputs": [],
   "source": [
    "%matplotlib inline\n",
    "\n",
    "# Import libraries\n",
    "import numpy as np\n",
    "import pandas as pd\n",
    "\n",
    "import seaborn as sns; sns.set()\n",
    "import matplotlib.pyplot as plt\n",
    "import statsmodels.api as sm\n",
    "import patsy"
   ]
  },
  {
   "cell_type": "markdown",
   "metadata": {},
   "source": [
    "## Data Cleaning"
   ]
  },
  {
   "cell_type": "markdown",
   "metadata": {},
   "source": [
    "### Datasets 1 "
   ]
  },
  {
   "cell_type": "markdown",
   "metadata": {},
   "source": [
    "This dataset shows the number and income of female and male workers in different occupations. The income is median weekly income. While cleaning the data, we realized that there were several null values, so we started off with getting rid of the null values. In this specific data the null values were names \"Na\" rather than \"Nan\", so we had to use another apporach than the method we learned in the class.'' \n"
   ]
  },
  {
   "cell_type": "code",
   "execution_count": 7,
   "metadata": {},
   "outputs": [
    {
     "data": {
      "text/html": [
       "<div>\n",
       "<style scoped>\n",
       "    .dataframe tbody tr th:only-of-type {\n",
       "        vertical-align: middle;\n",
       "    }\n",
       "\n",
       "    .dataframe tbody tr th {\n",
       "        vertical-align: top;\n",
       "    }\n",
       "\n",
       "    .dataframe thead th {\n",
       "        text-align: right;\n",
       "    }\n",
       "</style>\n",
       "<table border=\"1\" class=\"dataframe\">\n",
       "  <thead>\n",
       "    <tr style=\"text-align: right;\">\n",
       "      <th></th>\n",
       "      <th>Occupation</th>\n",
       "      <th>All_workers</th>\n",
       "      <th>All_weekly</th>\n",
       "      <th>M_workers</th>\n",
       "      <th>M_weekly</th>\n",
       "      <th>F_workers</th>\n",
       "      <th>F_weekly</th>\n",
       "    </tr>\n",
       "  </thead>\n",
       "  <tbody>\n",
       "    <tr>\n",
       "      <th>0</th>\n",
       "      <td>ALL OCCUPATIONS</td>\n",
       "      <td>109080</td>\n",
       "      <td>809</td>\n",
       "      <td>60746</td>\n",
       "      <td>895</td>\n",
       "      <td>48334</td>\n",
       "      <td>726</td>\n",
       "    </tr>\n",
       "    <tr>\n",
       "      <th>1</th>\n",
       "      <td>MANAGEMENT</td>\n",
       "      <td>12480</td>\n",
       "      <td>1351</td>\n",
       "      <td>7332</td>\n",
       "      <td>1486</td>\n",
       "      <td>5147</td>\n",
       "      <td>1139</td>\n",
       "    </tr>\n",
       "    <tr>\n",
       "      <th>2</th>\n",
       "      <td>Chief executives</td>\n",
       "      <td>1046</td>\n",
       "      <td>2041</td>\n",
       "      <td>763</td>\n",
       "      <td>2251</td>\n",
       "      <td>283</td>\n",
       "      <td>1836</td>\n",
       "    </tr>\n",
       "    <tr>\n",
       "      <th>3</th>\n",
       "      <td>General and operations managers</td>\n",
       "      <td>823</td>\n",
       "      <td>1260</td>\n",
       "      <td>621</td>\n",
       "      <td>1347</td>\n",
       "      <td>202</td>\n",
       "      <td>1002</td>\n",
       "    </tr>\n",
       "    <tr>\n",
       "      <th>4</th>\n",
       "      <td>Legislators</td>\n",
       "      <td>8</td>\n",
       "      <td>Na</td>\n",
       "      <td>5</td>\n",
       "      <td>Na</td>\n",
       "      <td>4</td>\n",
       "      <td>Na</td>\n",
       "    </tr>\n",
       "    <tr>\n",
       "      <th>...</th>\n",
       "      <td>...</td>\n",
       "      <td>...</td>\n",
       "      <td>...</td>\n",
       "      <td>...</td>\n",
       "      <td>...</td>\n",
       "      <td>...</td>\n",
       "      <td>...</td>\n",
       "    </tr>\n",
       "    <tr>\n",
       "      <th>553</th>\n",
       "      <td>Pumping station operators</td>\n",
       "      <td>18</td>\n",
       "      <td>Na</td>\n",
       "      <td>17</td>\n",
       "      <td>Na</td>\n",
       "      <td>1</td>\n",
       "      <td>Na</td>\n",
       "    </tr>\n",
       "    <tr>\n",
       "      <th>554</th>\n",
       "      <td>Refuse and recyclable material collectors</td>\n",
       "      <td>72</td>\n",
       "      <td>501</td>\n",
       "      <td>66</td>\n",
       "      <td>496</td>\n",
       "      <td>6</td>\n",
       "      <td>Na</td>\n",
       "    </tr>\n",
       "    <tr>\n",
       "      <th>555</th>\n",
       "      <td>Mine shuttle car operators</td>\n",
       "      <td>0</td>\n",
       "      <td>Na</td>\n",
       "      <td>0</td>\n",
       "      <td>Na</td>\n",
       "      <td>0</td>\n",
       "      <td>Na</td>\n",
       "    </tr>\n",
       "    <tr>\n",
       "      <th>556</th>\n",
       "      <td>Tank car, truck, and ship loaders</td>\n",
       "      <td>6</td>\n",
       "      <td>Na</td>\n",
       "      <td>6</td>\n",
       "      <td>Na</td>\n",
       "      <td>0</td>\n",
       "      <td>Na</td>\n",
       "    </tr>\n",
       "    <tr>\n",
       "      <th>557</th>\n",
       "      <td>Material moving workers, all other</td>\n",
       "      <td>37</td>\n",
       "      <td>Na</td>\n",
       "      <td>32</td>\n",
       "      <td>Na</td>\n",
       "      <td>5</td>\n",
       "      <td>Na</td>\n",
       "    </tr>\n",
       "  </tbody>\n",
       "</table>\n",
       "<p>558 rows × 7 columns</p>\n",
       "</div>"
      ],
      "text/plain": [
       "                                    Occupation  All_workers All_weekly  \\\n",
       "0                              ALL OCCUPATIONS       109080        809   \n",
       "1                                   MANAGEMENT        12480       1351   \n",
       "2                             Chief executives         1046       2041   \n",
       "3              General and operations managers          823       1260   \n",
       "4                                  Legislators            8         Na   \n",
       "..                                         ...          ...        ...   \n",
       "553                  Pumping station operators           18         Na   \n",
       "554  Refuse and recyclable material collectors           72        501   \n",
       "555                 Mine shuttle car operators            0         Na   \n",
       "556          Tank car, truck, and ship loaders            6         Na   \n",
       "557         Material moving workers, all other           37         Na   \n",
       "\n",
       "     M_workers M_weekly  F_workers F_weekly  \n",
       "0        60746      895      48334      726  \n",
       "1         7332     1486       5147     1139  \n",
       "2          763     2251        283     1836  \n",
       "3          621     1347        202     1002  \n",
       "4            5       Na          4       Na  \n",
       "..         ...      ...        ...      ...  \n",
       "553         17       Na          1       Na  \n",
       "554         66      496          6       Na  \n",
       "555          0       Na          0       Na  \n",
       "556          6       Na          0       Na  \n",
       "557         32       Na          5       Na  \n",
       "\n",
       "[558 rows x 7 columns]"
      ]
     },
     "execution_count": 7,
     "metadata": {},
     "output_type": "execute_result"
    }
   ],
   "source": [
    "df = pd.read_csv('inc_occ_gender.csv')\n",
    "df"
   ]
  },
  {
   "cell_type": "code",
   "execution_count": 10,
   "metadata": {},
   "outputs": [],
   "source": [
    "df = df[df[\"M_weekly\"]!=\"Na\"]\n",
    "df = df.reset_index()\n"
   ]
  },
  {
   "cell_type": "code",
   "execution_count": 11,
   "metadata": {},
   "outputs": [],
   "source": [
    "df = df[df.M_workers != 'Na']"
   ]
  },
  {
   "cell_type": "code",
   "execution_count": 12,
   "metadata": {},
   "outputs": [],
   "source": [
    "df = df[df.F_workers != 'Na']"
   ]
  },
  {
   "cell_type": "code",
   "execution_count": 13,
   "metadata": {},
   "outputs": [],
   "source": [
    "df = df[df.All_weekly != 'Na']"
   ]
  },
  {
   "cell_type": "code",
   "execution_count": 14,
   "metadata": {},
   "outputs": [],
   "source": [
    "df = df[df.M_weekly != 'Na']"
   ]
  },
  {
   "cell_type": "code",
   "execution_count": 15,
   "metadata": {},
   "outputs": [],
   "source": [
    "df = df[df.F_weekly != 'Na']"
   ]
  },
  {
   "cell_type": "code",
   "execution_count": 16,
   "metadata": {},
   "outputs": [
    {
     "data": {
      "text/plain": [
       "(142, 9)"
      ]
     },
     "execution_count": 16,
     "metadata": {},
     "output_type": "execute_result"
    }
   ],
   "source": [
    "df.shape"
   ]
  },
  {
   "cell_type": "code",
   "execution_count": 17,
   "metadata": {},
   "outputs": [],
   "source": [
    "df['M_weekly'] = pd.to_numeric(df['M_weekly'])\n",
    "df['F_weekly'] = pd.to_numeric(df['F_weekly'])"
   ]
  },
  {
   "cell_type": "code",
   "execution_count": 18,
   "metadata": {},
   "outputs": [
    {
     "data": {
      "text/html": [
       "<div>\n",
       "<style scoped>\n",
       "    .dataframe tbody tr th:only-of-type {\n",
       "        vertical-align: middle;\n",
       "    }\n",
       "\n",
       "    .dataframe tbody tr th {\n",
       "        vertical-align: top;\n",
       "    }\n",
       "\n",
       "    .dataframe thead th {\n",
       "        text-align: right;\n",
       "    }\n",
       "</style>\n",
       "<table border=\"1\" class=\"dataframe\">\n",
       "  <thead>\n",
       "    <tr style=\"text-align: right;\">\n",
       "      <th></th>\n",
       "      <th>level_0</th>\n",
       "      <th>index</th>\n",
       "      <th>Occupation</th>\n",
       "      <th>All_workers</th>\n",
       "      <th>All_weekly</th>\n",
       "      <th>M_workers</th>\n",
       "      <th>M_weekly</th>\n",
       "      <th>F_workers</th>\n",
       "      <th>F_weekly</th>\n",
       "      <th>weekly_gap</th>\n",
       "    </tr>\n",
       "  </thead>\n",
       "  <tbody>\n",
       "    <tr>\n",
       "      <th>0</th>\n",
       "      <td>0</td>\n",
       "      <td>0</td>\n",
       "      <td>ALL OCCUPATIONS</td>\n",
       "      <td>109080</td>\n",
       "      <td>809</td>\n",
       "      <td>60746</td>\n",
       "      <td>895</td>\n",
       "      <td>48334</td>\n",
       "      <td>726</td>\n",
       "      <td>169</td>\n",
       "    </tr>\n",
       "    <tr>\n",
       "      <th>1</th>\n",
       "      <td>1</td>\n",
       "      <td>1</td>\n",
       "      <td>MANAGEMENT</td>\n",
       "      <td>12480</td>\n",
       "      <td>1351</td>\n",
       "      <td>7332</td>\n",
       "      <td>1486</td>\n",
       "      <td>5147</td>\n",
       "      <td>1139</td>\n",
       "      <td>347</td>\n",
       "    </tr>\n",
       "    <tr>\n",
       "      <th>2</th>\n",
       "      <td>2</td>\n",
       "      <td>2</td>\n",
       "      <td>Chief executives</td>\n",
       "      <td>1046</td>\n",
       "      <td>2041</td>\n",
       "      <td>763</td>\n",
       "      <td>2251</td>\n",
       "      <td>283</td>\n",
       "      <td>1836</td>\n",
       "      <td>415</td>\n",
       "    </tr>\n",
       "    <tr>\n",
       "      <th>3</th>\n",
       "      <td>3</td>\n",
       "      <td>3</td>\n",
       "      <td>General and operations managers</td>\n",
       "      <td>823</td>\n",
       "      <td>1260</td>\n",
       "      <td>621</td>\n",
       "      <td>1347</td>\n",
       "      <td>202</td>\n",
       "      <td>1002</td>\n",
       "      <td>345</td>\n",
       "    </tr>\n",
       "    <tr>\n",
       "      <th>4</th>\n",
       "      <td>4</td>\n",
       "      <td>6</td>\n",
       "      <td>Marketing and sales managers</td>\n",
       "      <td>948</td>\n",
       "      <td>1462</td>\n",
       "      <td>570</td>\n",
       "      <td>1603</td>\n",
       "      <td>378</td>\n",
       "      <td>1258</td>\n",
       "      <td>345</td>\n",
       "    </tr>\n",
       "    <tr>\n",
       "      <th>...</th>\n",
       "      <td>...</td>\n",
       "      <td>...</td>\n",
       "      <td>...</td>\n",
       "      <td>...</td>\n",
       "      <td>...</td>\n",
       "      <td>...</td>\n",
       "      <td>...</td>\n",
       "      <td>...</td>\n",
       "      <td>...</td>\n",
       "      <td>...</td>\n",
       "    </tr>\n",
       "    <tr>\n",
       "      <th>218</th>\n",
       "      <td>218</td>\n",
       "      <td>521</td>\n",
       "      <td>TRANSPORTATION</td>\n",
       "      <td>6953</td>\n",
       "      <td>646</td>\n",
       "      <td>5998</td>\n",
       "      <td>679</td>\n",
       "      <td>955</td>\n",
       "      <td>494</td>\n",
       "      <td>185</td>\n",
       "    </tr>\n",
       "    <tr>\n",
       "      <th>221</th>\n",
       "      <td>221</td>\n",
       "      <td>527</td>\n",
       "      <td>Bus drivers</td>\n",
       "      <td>323</td>\n",
       "      <td>615</td>\n",
       "      <td>184</td>\n",
       "      <td>681</td>\n",
       "      <td>138</td>\n",
       "      <td>572</td>\n",
       "      <td>109</td>\n",
       "    </tr>\n",
       "    <tr>\n",
       "      <th>222</th>\n",
       "      <td>222</td>\n",
       "      <td>528</td>\n",
       "      <td>Driver/sales workers and truck drivers</td>\n",
       "      <td>2687</td>\n",
       "      <td>747</td>\n",
       "      <td>2582</td>\n",
       "      <td>751</td>\n",
       "      <td>105</td>\n",
       "      <td>632</td>\n",
       "      <td>119</td>\n",
       "    </tr>\n",
       "    <tr>\n",
       "      <th>229</th>\n",
       "      <td>229</td>\n",
       "      <td>550</td>\n",
       "      <td>Laborers and freight, stock, and material move...</td>\n",
       "      <td>1433</td>\n",
       "      <td>526</td>\n",
       "      <td>1214</td>\n",
       "      <td>547</td>\n",
       "      <td>219</td>\n",
       "      <td>455</td>\n",
       "      <td>92</td>\n",
       "    </tr>\n",
       "    <tr>\n",
       "      <th>230</th>\n",
       "      <td>230</td>\n",
       "      <td>552</td>\n",
       "      <td>Packers and packagers, hand</td>\n",
       "      <td>385</td>\n",
       "      <td>438</td>\n",
       "      <td>158</td>\n",
       "      <td>462</td>\n",
       "      <td>227</td>\n",
       "      <td>424</td>\n",
       "      <td>38</td>\n",
       "    </tr>\n",
       "  </tbody>\n",
       "</table>\n",
       "<p>142 rows × 10 columns</p>\n",
       "</div>"
      ],
      "text/plain": [
       "     level_0  index                                         Occupation  \\\n",
       "0          0      0                                    ALL OCCUPATIONS   \n",
       "1          1      1                                         MANAGEMENT   \n",
       "2          2      2                                   Chief executives   \n",
       "3          3      3                    General and operations managers   \n",
       "4          4      6                       Marketing and sales managers   \n",
       "..       ...    ...                                                ...   \n",
       "218      218    521                                     TRANSPORTATION   \n",
       "221      221    527                                        Bus drivers   \n",
       "222      222    528             Driver/sales workers and truck drivers   \n",
       "229      229    550  Laborers and freight, stock, and material move...   \n",
       "230      230    552                        Packers and packagers, hand   \n",
       "\n",
       "     All_workers All_weekly  M_workers  M_weekly  F_workers  F_weekly  \\\n",
       "0         109080        809      60746       895      48334       726   \n",
       "1          12480       1351       7332      1486       5147      1139   \n",
       "2           1046       2041        763      2251        283      1836   \n",
       "3            823       1260        621      1347        202      1002   \n",
       "4            948       1462        570      1603        378      1258   \n",
       "..           ...        ...        ...       ...        ...       ...   \n",
       "218         6953        646       5998       679        955       494   \n",
       "221          323        615        184       681        138       572   \n",
       "222         2687        747       2582       751        105       632   \n",
       "229         1433        526       1214       547        219       455   \n",
       "230          385        438        158       462        227       424   \n",
       "\n",
       "     weekly_gap  \n",
       "0           169  \n",
       "1           347  \n",
       "2           415  \n",
       "3           345  \n",
       "4           345  \n",
       "..          ...  \n",
       "218         185  \n",
       "221         109  \n",
       "222         119  \n",
       "229          92  \n",
       "230          38  \n",
       "\n",
       "[142 rows x 10 columns]"
      ]
     },
     "execution_count": 18,
     "metadata": {},
     "output_type": "execute_result"
    }
   ],
   "source": [
    "df=df.assign(weekly_gap=(df['M_weekly'] - df['F_weekly']))\n",
    "df"
   ]
  },
  {
   "cell_type": "code",
   "execution_count": 28,
   "metadata": {},
   "outputs": [
    {
     "data": {
      "text/plain": [
       "Text(0, 0.5, 'weekly median income')"
      ]
     },
     "execution_count": 28,
     "metadata": {},
     "output_type": "execute_result"
    },
    {
     "data": {
      "image/png": "[encoded data removed]",
      "text/plain": [
       "<Figure size 1080x720 with 1 Axes>"
      ]
     },
     "metadata": {
      "needs_background": "light"
     },
     "output_type": "display_data"
    }
   ],
   "source": [
    "# bar graph for income comparision between differnt major occupations\n",
    "F_weekly = [1139,1004, 1245, 1257, 1067, 845, 1135, 942, 475, 578, 494, 907, 991, 437, 704]\n",
    "M_weekly = [1486, 1327, 1503, 1452, 1379, 973, 1877, 1088, 597, 880, 679, 1144, 1272, 477, 751]\n",
    "index = ['manag', 'busi', 'computa','engn', 'science', 'social service',\n",
    "          'legal', 'arts', 'service', 'sales', 'transp', 'education', 'health', \n",
    "         'agri', 'construction']\n",
    "df = pd.DataFrame({'F_weekly': F_weekly, 'M_weekly': M_weekly }, index=index)\n",
    "ax = df.plot.bar(rot=0, figsize = (15,10))\n",
    "ax.set_xlabel('job industry')\n",
    "ax.set_ylabel('weekly median income')"
   ]
  },
  {
   "cell_type": "markdown",
   "metadata": {},
   "source": [
    "This bar graph shows income gap between female and male workers in the major indusries listed in the dateset. We wanted to see a complied visual version of what income gap looks live overall in different kinds of industry. Through this graph we found out that in every major industry there were income gaps and females were always pad less than men. Since we wanted to focus on managerial positions women hold in diffierent industry, we narrowed down to look at the data relating to manegements positions"
   ]
  },
  {
   "cell_type": "code",
   "execution_count": 29,
   "metadata": {},
   "outputs": [
    {
     "data": {
      "text/plain": [
       "Text(0, 0.5, 'Manager Job Type')"
      ]
     },
     "execution_count": 29,
     "metadata": {},
     "output_type": "execute_result"
    },
    {
     "data": {
      "image/png": "[encoded data removed]",
      "text/plain": [
       "<Figure size 864x720 with 1 Axes>"
      ]
     },
     "metadata": {
      "needs_background": "light"
     },
     "output_type": "display_data"
    }
   ],
   "source": [
    "# Bar graph for amount of male and female workers in management jobs\n",
    "M_workers = [763, 621, 570, 96, 466, 551, 68, 109, 224, 282, 389, 54, 154, 171, 105, 1717]\n",
    "W_workers = [283, 202, 378, 73, 169, 573, 186, 84, 52, 496, 374, 68, 438, 230, 20, 1085]\n",
    "index = ['Chief executives', 'General and operations', 'Marketing and sales',\n",
    "         'Administrative services', 'Computer and information systems', 'Financial', 'Human resources', 'Purchasing',\n",
    "         'Transportation, storage, and distribution ','Education ','Food service','Lodging ','Medical and health services','Property, real estate, and community','Social and community service','other']\n",
    "df = pd.DataFrame({'M_workers': M_workers,\n",
    "                   'W_workers': W_workers}, index=index)\n",
    "ax = df.plot.barh(rot=0, figsize=(12,10),title = 'Number of Men and Women in Different Management Jobs')\n",
    "ax.set_xlabel(\"Number of Workers\")\n",
    "ax.set_ylabel(\"Manager Job Type\")"
   ]
  },
  {
   "cell_type": "markdown",
   "metadata": {},
   "source": [
    "In this garph, we took the data only of manegement position so that our focus was not too broad. Graphing the data, we found out that in almost every manegement positions, expcept for real estate,health service, lodging, human resources, and finance more male workers held manegerial positions than female workers"
   ]
  },
  {
   "cell_type": "code",
   "execution_count": 24,
   "metadata": {},
   "outputs": [
    {
     "data": {
      "text/plain": [
       "Text(0, 0.5, 'manager type')"
      ]
     },
     "execution_count": 24,
     "metadata": {},
     "output_type": "execute_result"
    },
    {
     "data": {
      "image/png": "[encoded data removed]",
      "text/plain": [
       "<Figure size 1296x1368 with 1 Axes>"
      ]
     },
     "metadata": {
      "needs_background": "light"
     },
     "output_type": "display_data"
    }
   ],
   "source": [
    "#bar graph of income gap of male and female workers in managerial positions\n",
    "F_weekly = [1836,1002,1258,981,1563,1130,1274,1226,749,1252,680,902,1156,823,965,1213]\n",
    "M_weekly = [2251,1347,1603,1451,1817,1732,1495,1404,1006,1585,820,1171,1422,1137,1142,1525]\n",
    "index = ['Chief executives', 'General and operations', 'Marketing and sales',\n",
    "         'Administrative services', 'Computer and information systems', 'Financial', 'Human resources', 'Purchasing','Transportation, storage, and distribution ','Education ','Food service','Lodging ',\n",
    "         'Medical and health services','Property, real estate, and community','Social and community service','other']\n",
    "df = pd.DataFrame({'F_weekly': F_weekly, 'M_weekly': M_weekly }, index=index)\n",
    "ax = df.plot.barh(rot=0, title = 'income gap of male and female workers in managerial positions', figsize = (18,19))            \n",
    "ax.set_xlabel('weekly median income')\n",
    "ax.set_ylabel('manager type')"
   ]
  },
  {
   "cell_type": "markdown",
   "metadata": {},
   "source": [
    "Since there were few categories in which there were more women manegers than male manegers, we wanted to know if that would change the income gap between male and femlae. However after we plotted the graph we saw that even though there were more women manegers in some jobs, they still got paid less than male managers. This made us questions why that was the case and so we went into further analysis by looking and analyzing data that showed how women manager positions for past 17 years (2000 to 2017)"
   ]
  },
  {
   "cell_type": "code",
   "execution_count": 31,
   "metadata": {},
   "outputs": [
    {
     "data": {
      "text/plain": [
       "Text(0, 0.5, 'Weeky Median Income Gap in Dollars')"
      ]
     },
     "execution_count": 31,
     "metadata": {},
     "output_type": "execute_result"
    },
    {
     "data": {
      "image/png": "[encoded data removed]",
      "text/plain": [
       "<Figure size 936x720 with 1 Axes>"
      ]
     },
     "metadata": {
      "needs_background": "light"
     },
     "output_type": "display_data"
    }
   ],
   "source": [
    "weekly_gap = [347, 323, 258, 195, 312, 128, 742, 146, 122, 302, 185, 237, 281, 40, 47]\n",
    "index = ['mang', 'busi', 'comp', 'engn', 'science', 'social','legal', 'arts', \n",
    "         'service', 'sales', 'transp', 'education', 'health', \n",
    "         'agri', 'construction']\n",
    "df = pd.DataFrame({'weekly_gap':weekly_gap}, index=index)\n",
    "ax =df.plot.bar(rot=0, figsize = (13,10))\n",
    "ax.set_xlabel(\"Job Industries\")\n",
    "ax.set_ylabel(\"Weeky Median Income Gap in Dollars\")"
   ]
  },
  {
   "cell_type": "markdown",
   "metadata": {},
   "source": [
    "Even though the first graph shows the income gap, it is hard to see the numerical differnece. Thus to make it more clear we made this graph to show the income gap in job industries. "
   ]
  },
  {
   "cell_type": "markdown",
   "metadata": {},
   "source": [
    "### Dataset 2"
   ]
  },
  {
   "cell_type": "markdown",
   "metadata": {},
   "source": [
    "In order to clean these datasets, I had to take out all the unneeded columns that contained information that I didn't need to use. Since these datasets are sourced from the United Nations, I had to choose only the data from the United States, since this was the part of the data that we were interested in. I also took out all the null values and empty columns that did not add valuable information to my analysis. "
   ]
  },
  {
   "cell_type": "code",
   "execution_count": 2,
   "metadata": {},
   "outputs": [],
   "source": [
    "sns.set(rc={'figure.figsize':(11.7,8.27)})"
   ]
  },
  {
   "cell_type": "code",
   "execution_count": 3,
   "metadata": {},
   "outputs": [],
   "source": [
    "df_management = pd.read_csv(\"managerialpostions.csv\")\n",
    "df_management.head()\n",
    "df_management_us = df_management[df_management.Country == \"United States of America\"]"
   ]
  },
  {
   "cell_type": "code",
   "execution_count": 4,
   "metadata": {},
   "outputs": [],
   "source": [
    "df_senior = pd.read_csv(\"senior_management_positions.csv\")\n",
    "df_senior_us = df_senior[df_senior.Country == \"United States of America\"]"
   ]
  },
  {
   "cell_type": "code",
   "execution_count": 5,
   "metadata": {},
   "outputs": [
    {
     "data": {
      "text/html": [
       "<div>\n",
       "<style scoped>\n",
       "    .dataframe tbody tr th:only-of-type {\n",
       "        vertical-align: middle;\n",
       "    }\n",
       "\n",
       "    .dataframe tbody tr th {\n",
       "        vertical-align: top;\n",
       "    }\n",
       "\n",
       "    .dataframe thead th {\n",
       "        text-align: right;\n",
       "    }\n",
       "</style>\n",
       "<table border=\"1\" class=\"dataframe\">\n",
       "  <thead>\n",
       "    <tr style=\"text-align: right;\">\n",
       "      <th></th>\n",
       "      <th>Indicator Name</th>\n",
       "      <th>Region</th>\n",
       "      <th>Country Code</th>\n",
       "      <th>Country</th>\n",
       "      <th>Year</th>\n",
       "      <th>Sex</th>\n",
       "      <th>Value</th>\n",
       "      <th>Unit</th>\n",
       "      <th>NatureData</th>\n",
       "    </tr>\n",
       "  </thead>\n",
       "  <tbody>\n",
       "    <tr>\n",
       "      <th>792</th>\n",
       "      <td>Proportion of women in managerial positions</td>\n",
       "      <td>Developed regions</td>\n",
       "      <td>840</td>\n",
       "      <td>United States of America</td>\n",
       "      <td>2003</td>\n",
       "      <td>Female</td>\n",
       "      <td>37.5</td>\n",
       "      <td>Percentage</td>\n",
       "      <td>Country data</td>\n",
       "    </tr>\n",
       "    <tr>\n",
       "      <th>793</th>\n",
       "      <td>Proportion of women in managerial positions</td>\n",
       "      <td>Developed regions</td>\n",
       "      <td>840</td>\n",
       "      <td>United States of America</td>\n",
       "      <td>2008</td>\n",
       "      <td>Female</td>\n",
       "      <td>38.3</td>\n",
       "      <td>Percentage</td>\n",
       "      <td>Country data</td>\n",
       "    </tr>\n",
       "    <tr>\n",
       "      <th>794</th>\n",
       "      <td>Proportion of women in managerial positions</td>\n",
       "      <td>Developed regions</td>\n",
       "      <td>840</td>\n",
       "      <td>United States of America</td>\n",
       "      <td>2000</td>\n",
       "      <td>Female</td>\n",
       "      <td>36.0</td>\n",
       "      <td>Percentage</td>\n",
       "      <td>Country data</td>\n",
       "    </tr>\n",
       "    <tr>\n",
       "      <th>795</th>\n",
       "      <td>Proportion of women in managerial positions</td>\n",
       "      <td>Developed regions</td>\n",
       "      <td>840</td>\n",
       "      <td>United States of America</td>\n",
       "      <td>2005</td>\n",
       "      <td>Female</td>\n",
       "      <td>37.8</td>\n",
       "      <td>Percentage</td>\n",
       "      <td>Country data</td>\n",
       "    </tr>\n",
       "    <tr>\n",
       "      <th>796</th>\n",
       "      <td>Proportion of women in managerial positions</td>\n",
       "      <td>Developed regions</td>\n",
       "      <td>840</td>\n",
       "      <td>United States of America</td>\n",
       "      <td>2007</td>\n",
       "      <td>Female</td>\n",
       "      <td>38.4</td>\n",
       "      <td>Percentage</td>\n",
       "      <td>Country data</td>\n",
       "    </tr>\n",
       "  </tbody>\n",
       "</table>\n",
       "</div>"
      ],
      "text/plain": [
       "                                  Indicator Name             Region  \\\n",
       "792  Proportion of women in managerial positions  Developed regions   \n",
       "793  Proportion of women in managerial positions  Developed regions   \n",
       "794  Proportion of women in managerial positions  Developed regions   \n",
       "795  Proportion of women in managerial positions  Developed regions   \n",
       "796  Proportion of women in managerial positions  Developed regions   \n",
       "\n",
       "     Country Code                   Country  Year     Sex  Value        Unit  \\\n",
       "792           840  United States of America  2003  Female   37.5  Percentage   \n",
       "793           840  United States of America  2008  Female   38.3  Percentage   \n",
       "794           840  United States of America  2000  Female   36.0  Percentage   \n",
       "795           840  United States of America  2005  Female   37.8  Percentage   \n",
       "796           840  United States of America  2007  Female   38.4  Percentage   \n",
       "\n",
       "       NatureData  \n",
       "792  Country data  \n",
       "793  Country data  \n",
       "794  Country data  \n",
       "795  Country data  \n",
       "796  Country data  "
      ]
     },
     "execution_count": 5,
     "metadata": {},
     "output_type": "execute_result"
    }
   ],
   "source": [
    "df_management_us = df_management_us.drop(columns =[\"Age\", \"Location\", \"Occupation\", \"LowerBound\", \"UpperBound\", \"OriginData\", \"Footnote1\", \"Footnote2\"]) \n",
    "df_management_us.head()"
   ]
  },
  {
   "cell_type": "code",
   "execution_count": 6,
   "metadata": {},
   "outputs": [
    {
     "data": {
      "text/html": [
       "<div>\n",
       "<style scoped>\n",
       "    .dataframe tbody tr th:only-of-type {\n",
       "        vertical-align: middle;\n",
       "    }\n",
       "\n",
       "    .dataframe tbody tr th {\n",
       "        vertical-align: top;\n",
       "    }\n",
       "\n",
       "    .dataframe thead th {\n",
       "        text-align: right;\n",
       "    }\n",
       "</style>\n",
       "<table border=\"1\" class=\"dataframe\">\n",
       "  <thead>\n",
       "    <tr style=\"text-align: right;\">\n",
       "      <th></th>\n",
       "      <th>Indicator Name</th>\n",
       "      <th>Region</th>\n",
       "      <th>Country Code</th>\n",
       "      <th>Country</th>\n",
       "      <th>Year</th>\n",
       "      <th>Sex</th>\n",
       "      <th>Value</th>\n",
       "      <th>Unit</th>\n",
       "      <th>NatureData</th>\n",
       "    </tr>\n",
       "  </thead>\n",
       "  <tbody>\n",
       "    <tr>\n",
       "      <th>588</th>\n",
       "      <td>Proportion of women in senior and middle manag...</td>\n",
       "      <td>Developed regions</td>\n",
       "      <td>840</td>\n",
       "      <td>United States of America</td>\n",
       "      <td>2003</td>\n",
       "      <td>Female</td>\n",
       "      <td>37.3</td>\n",
       "      <td>Percentage</td>\n",
       "      <td>Country data</td>\n",
       "    </tr>\n",
       "    <tr>\n",
       "      <th>589</th>\n",
       "      <td>Proportion of women in senior and middle manag...</td>\n",
       "      <td>Developed regions</td>\n",
       "      <td>840</td>\n",
       "      <td>United States of America</td>\n",
       "      <td>2008</td>\n",
       "      <td>Female</td>\n",
       "      <td>37.9</td>\n",
       "      <td>Percentage</td>\n",
       "      <td>Country data</td>\n",
       "    </tr>\n",
       "    <tr>\n",
       "      <th>590</th>\n",
       "      <td>Proportion of women in senior and middle manag...</td>\n",
       "      <td>Developed regions</td>\n",
       "      <td>840</td>\n",
       "      <td>United States of America</td>\n",
       "      <td>2000</td>\n",
       "      <td>Female</td>\n",
       "      <td>35.5</td>\n",
       "      <td>Percentage</td>\n",
       "      <td>Country data</td>\n",
       "    </tr>\n",
       "    <tr>\n",
       "      <th>591</th>\n",
       "      <td>Proportion of women in senior and middle manag...</td>\n",
       "      <td>Developed regions</td>\n",
       "      <td>840</td>\n",
       "      <td>United States of America</td>\n",
       "      <td>2005</td>\n",
       "      <td>Female</td>\n",
       "      <td>37.5</td>\n",
       "      <td>Percentage</td>\n",
       "      <td>Country data</td>\n",
       "    </tr>\n",
       "    <tr>\n",
       "      <th>592</th>\n",
       "      <td>Proportion of women in senior and middle manag...</td>\n",
       "      <td>Developed regions</td>\n",
       "      <td>840</td>\n",
       "      <td>United States of America</td>\n",
       "      <td>2007</td>\n",
       "      <td>Female</td>\n",
       "      <td>38.1</td>\n",
       "      <td>Percentage</td>\n",
       "      <td>Country data</td>\n",
       "    </tr>\n",
       "  </tbody>\n",
       "</table>\n",
       "</div>"
      ],
      "text/plain": [
       "                                        Indicator Name             Region  \\\n",
       "588  Proportion of women in senior and middle manag...  Developed regions   \n",
       "589  Proportion of women in senior and middle manag...  Developed regions   \n",
       "590  Proportion of women in senior and middle manag...  Developed regions   \n",
       "591  Proportion of women in senior and middle manag...  Developed regions   \n",
       "592  Proportion of women in senior and middle manag...  Developed regions   \n",
       "\n",
       "     Country Code                   Country  Year     Sex  Value        Unit  \\\n",
       "588           840  United States of America  2003  Female   37.3  Percentage   \n",
       "589           840  United States of America  2008  Female   37.9  Percentage   \n",
       "590           840  United States of America  2000  Female   35.5  Percentage   \n",
       "591           840  United States of America  2005  Female   37.5  Percentage   \n",
       "592           840  United States of America  2007  Female   38.1  Percentage   \n",
       "\n",
       "       NatureData  \n",
       "588  Country data  \n",
       "589  Country data  \n",
       "590  Country data  \n",
       "591  Country data  \n",
       "592  Country data  "
      ]
     },
     "execution_count": 6,
     "metadata": {},
     "output_type": "execute_result"
    }
   ],
   "source": [
    "df_senior_us = df_senior_us.drop(columns = [\"Age\", \"Location\", \"Occupation\", \"LowerBound\", \"UpperBound\", \"OriginData\", \"Footnote1\", \"Footnote2\", \"Footnote3\", \"Footnote4\", \"Footnote5\", \"Footnote6\", \"Coverage\"]) \n",
    "df_senior_us.head()"
   ]
  },
  {
   "cell_type": "code",
   "execution_count": 7,
   "metadata": {},
   "outputs": [
    {
     "data": {
      "text/html": [
       "<div>\n",
       "<style scoped>\n",
       "    .dataframe tbody tr th:only-of-type {\n",
       "        vertical-align: middle;\n",
       "    }\n",
       "\n",
       "    .dataframe tbody tr th {\n",
       "        vertical-align: top;\n",
       "    }\n",
       "\n",
       "    .dataframe thead th {\n",
       "        text-align: right;\n",
       "    }\n",
       "</style>\n",
       "<table border=\"1\" class=\"dataframe\">\n",
       "  <thead>\n",
       "    <tr style=\"text-align: right;\">\n",
       "      <th></th>\n",
       "      <th>Indicator Name</th>\n",
       "      <th>Region</th>\n",
       "      <th>Country Code</th>\n",
       "      <th>Country</th>\n",
       "      <th>Year</th>\n",
       "      <th>Sex</th>\n",
       "      <th>Value</th>\n",
       "      <th>Unit</th>\n",
       "      <th>NatureData</th>\n",
       "    </tr>\n",
       "  </thead>\n",
       "  <tbody>\n",
       "    <tr>\n",
       "      <th>0</th>\n",
       "      <td>Proportion of women in managerial positions</td>\n",
       "      <td>Developed regions</td>\n",
       "      <td>840</td>\n",
       "      <td>United States of America</td>\n",
       "      <td>2000</td>\n",
       "      <td>Female</td>\n",
       "      <td>36.0</td>\n",
       "      <td>Percentage</td>\n",
       "      <td>Country data</td>\n",
       "    </tr>\n",
       "    <tr>\n",
       "      <th>1</th>\n",
       "      <td>Proportion of women in managerial positions</td>\n",
       "      <td>Developed regions</td>\n",
       "      <td>840</td>\n",
       "      <td>United States of America</td>\n",
       "      <td>2000</td>\n",
       "      <td>Female</td>\n",
       "      <td>35.5</td>\n",
       "      <td>Percentage</td>\n",
       "      <td>Country data</td>\n",
       "    </tr>\n",
       "    <tr>\n",
       "      <th>2</th>\n",
       "      <td>Proportion of women in managerial positions</td>\n",
       "      <td>Developed regions</td>\n",
       "      <td>840</td>\n",
       "      <td>United States of America</td>\n",
       "      <td>2001</td>\n",
       "      <td>Female</td>\n",
       "      <td>35.9</td>\n",
       "      <td>Percentage</td>\n",
       "      <td>Country data</td>\n",
       "    </tr>\n",
       "    <tr>\n",
       "      <th>3</th>\n",
       "      <td>Proportion of women in managerial positions</td>\n",
       "      <td>Developed regions</td>\n",
       "      <td>840</td>\n",
       "      <td>United States of America</td>\n",
       "      <td>2001</td>\n",
       "      <td>Female</td>\n",
       "      <td>36.4</td>\n",
       "      <td>Percentage</td>\n",
       "      <td>Country data</td>\n",
       "    </tr>\n",
       "    <tr>\n",
       "      <th>4</th>\n",
       "      <td>Proportion of women in managerial positions</td>\n",
       "      <td>Developed regions</td>\n",
       "      <td>840</td>\n",
       "      <td>United States of America</td>\n",
       "      <td>2002</td>\n",
       "      <td>Female</td>\n",
       "      <td>36.4</td>\n",
       "      <td>Percentage</td>\n",
       "      <td>Country data</td>\n",
       "    </tr>\n",
       "  </tbody>\n",
       "</table>\n",
       "</div>"
      ],
      "text/plain": [
       "                                Indicator Name             Region  \\\n",
       "0  Proportion of women in managerial positions  Developed regions   \n",
       "1  Proportion of women in managerial positions  Developed regions   \n",
       "2  Proportion of women in managerial positions  Developed regions   \n",
       "3  Proportion of women in managerial positions  Developed regions   \n",
       "4  Proportion of women in managerial positions  Developed regions   \n",
       "\n",
       "   Country Code                   Country  Year     Sex  Value        Unit  \\\n",
       "0           840  United States of America  2000  Female   36.0  Percentage   \n",
       "1           840  United States of America  2000  Female   35.5  Percentage   \n",
       "2           840  United States of America  2001  Female   35.9  Percentage   \n",
       "3           840  United States of America  2001  Female   36.4  Percentage   \n",
       "4           840  United States of America  2002  Female   36.4  Percentage   \n",
       "\n",
       "     NatureData  \n",
       "0  Country data  \n",
       "1  Country data  \n",
       "2  Country data  \n",
       "3  Country data  \n",
       "4  Country data  "
      ]
     },
     "execution_count": 7,
     "metadata": {},
     "output_type": "execute_result"
    }
   ],
   "source": [
    "df_manage = pd.concat([df_management_us, df_senior_us], ignore_index=True)\n",
    "df_manage = df_manage.replace({'Indicator Name': \"Proportion of women in senior and middle management positions\"}, \"Proportion of women in managerial positions\")\n",
    "df_manage = df_manage.sort_values('Year')\n",
    "df_manage = df_manage.reset_index(drop=True)\n",
    "df_manage.head()"
   ]
  },
  {
   "cell_type": "markdown",
   "metadata": {},
   "source": [
    "## Data Analysis & Results"
   ]
  },
  {
   "cell_type": "markdown",
   "metadata": {},
   "source": [
    "### Datasets 1 and 2"
   ]
  },
  {
   "cell_type": "code",
   "execution_count": 8,
   "metadata": {},
   "outputs": [
    {
     "data": {
      "text/html": [
       "<div>\n",
       "<style scoped>\n",
       "    .dataframe tbody tr th:only-of-type {\n",
       "        vertical-align: middle;\n",
       "    }\n",
       "\n",
       "    .dataframe tbody tr th {\n",
       "        vertical-align: top;\n",
       "    }\n",
       "\n",
       "    .dataframe thead th {\n",
       "        text-align: right;\n",
       "    }\n",
       "</style>\n",
       "<table border=\"1\" class=\"dataframe\">\n",
       "  <thead>\n",
       "    <tr style=\"text-align: right;\">\n",
       "      <th></th>\n",
       "      <th>Country Code</th>\n",
       "      <th>Year</th>\n",
       "      <th>Value</th>\n",
       "    </tr>\n",
       "  </thead>\n",
       "  <tbody>\n",
       "    <tr>\n",
       "      <th>count</th>\n",
       "      <td>36.0</td>\n",
       "      <td>36.000000</td>\n",
       "      <td>36.000000</td>\n",
       "    </tr>\n",
       "    <tr>\n",
       "      <th>mean</th>\n",
       "      <td>840.0</td>\n",
       "      <td>2008.500000</td>\n",
       "      <td>38.147222</td>\n",
       "    </tr>\n",
       "    <tr>\n",
       "      <th>std</th>\n",
       "      <td>0.0</td>\n",
       "      <td>5.261722</td>\n",
       "      <td>1.262534</td>\n",
       "    </tr>\n",
       "    <tr>\n",
       "      <th>min</th>\n",
       "      <td>840.0</td>\n",
       "      <td>2000.000000</td>\n",
       "      <td>35.500000</td>\n",
       "    </tr>\n",
       "    <tr>\n",
       "      <th>25%</th>\n",
       "      <td>840.0</td>\n",
       "      <td>2004.000000</td>\n",
       "      <td>37.300000</td>\n",
       "    </tr>\n",
       "    <tr>\n",
       "      <th>50%</th>\n",
       "      <td>840.0</td>\n",
       "      <td>2008.500000</td>\n",
       "      <td>38.300000</td>\n",
       "    </tr>\n",
       "    <tr>\n",
       "      <th>75%</th>\n",
       "      <td>840.0</td>\n",
       "      <td>2013.000000</td>\n",
       "      <td>39.025000</td>\n",
       "    </tr>\n",
       "    <tr>\n",
       "      <th>max</th>\n",
       "      <td>840.0</td>\n",
       "      <td>2017.000000</td>\n",
       "      <td>40.500000</td>\n",
       "    </tr>\n",
       "  </tbody>\n",
       "</table>\n",
       "</div>"
      ],
      "text/plain": [
       "       Country Code         Year      Value\n",
       "count          36.0    36.000000  36.000000\n",
       "mean          840.0  2008.500000  38.147222\n",
       "std             0.0     5.261722   1.262534\n",
       "min           840.0  2000.000000  35.500000\n",
       "25%           840.0  2004.000000  37.300000\n",
       "50%           840.0  2008.500000  38.300000\n",
       "75%           840.0  2013.000000  39.025000\n",
       "max           840.0  2017.000000  40.500000"
      ]
     },
     "execution_count": 8,
     "metadata": {},
     "output_type": "execute_result"
    }
   ],
   "source": [
    "df_manage.describe()"
   ]
  },
  {
   "cell_type": "markdown",
   "metadata": {},
   "source": [
    "This chart shows the basic description of the proportion of women in management positions over the course of 17 years. We can ignore the \"Country Code\" and \"Year\" column, as those are not the variables that we want to describe. When we look at the statistical description of the column \"Value\", we can see that the smallest proportion of women was 35.5% in the year 2000, and that this percentage has increased to 40.5% in the year 2017. "
   ]
  },
  {
   "cell_type": "code",
   "execution_count": 9,
   "metadata": {},
   "outputs": [
    {
     "data": {
      "text/plain": [
       "Text(0.5, 1.0, 'Proportion of Women in Management Positions from 2000 to 2017')"
      ]
     },
     "execution_count": 9,
     "metadata": {},
     "output_type": "execute_result"
    },
    {
     "data": {
      "image/png": "[encoded data removed]",
      "text/plain": [
       "<Figure size 842.4x595.44 with 1 Axes>"
      ]
     },
     "metadata": {},
     "output_type": "display_data"
    }
   ],
   "source": [
    "ax = sns.scatterplot(x=\"Year\", y=\"Value\", data=df_manage)\n",
    "ax.set_title(\"Proportion of Women in Management Positions from 2000 to 2017\")"
   ]
  },
  {
   "cell_type": "markdown",
   "metadata": {},
   "source": [
    "From this inital scatterplot created by plotting the proportion of women in management positions versus the year of the observation, we can already tell that there is a strong positive relationship between these two variables. \n",
    "\n",
    "However, to be sure of this, we can go on to perform a linear regression analysis to find out the strength of this relationship.\n",
    "\n",
    "The type of linear regression that we will be performing is an Ordinary Least Squares analysis, which means that we are fitting a regression line that would minimize the square of distance from the regression line."
   ]
  },
  {
   "cell_type": "code",
   "execution_count": 10,
   "metadata": {},
   "outputs": [
    {
     "data": {
      "text/html": [
       "<table class=\"simpletable\">\n",
       "<caption>OLS Regression Results</caption>\n",
       "<tr>\n",
       "  <th>Dep. Variable:</th>          <td>Value</td>      <th>  R-squared:         </th> <td>   0.999</td> \n",
       "</tr>\n",
       "<tr>\n",
       "  <th>Model:</th>                   <td>OLS</td>       <th>  Adj. R-squared:    </th> <td>   0.999</td> \n",
       "</tr>\n",
       "<tr>\n",
       "  <th>Method:</th>             <td>Least Squares</td>  <th>  F-statistic:       </th> <td>3.844e+04</td>\n",
       "</tr>\n",
       "<tr>\n",
       "  <th>Date:</th>             <td>Thu, 11 Jun 2020</td> <th>  Prob (F-statistic):</th> <td>8.08e-55</td> \n",
       "</tr>\n",
       "<tr>\n",
       "  <th>Time:</th>                 <td>23:31:46</td>     <th>  Log-Likelihood:    </th> <td> -56.149</td> \n",
       "</tr>\n",
       "<tr>\n",
       "  <th>No. Observations:</th>      <td>    36</td>      <th>  AIC:               </th> <td>   114.3</td> \n",
       "</tr>\n",
       "<tr>\n",
       "  <th>Df Residuals:</th>          <td>    35</td>      <th>  BIC:               </th> <td>   115.9</td> \n",
       "</tr>\n",
       "<tr>\n",
       "  <th>Df Model:</th>              <td>     1</td>      <th>                     </th>     <td> </td>    \n",
       "</tr>\n",
       "<tr>\n",
       "  <th>Covariance Type:</th>      <td>nonrobust</td>    <th>                     </th>     <td> </td>    \n",
       "</tr>\n",
       "</table>\n",
       "<table class=\"simpletable\">\n",
       "<tr>\n",
       "    <td></td>      <th>coef</th>     <th>std err</th>      <th>t</th>      <th>P>|t|</th>  <th>[0.025</th>    <th>0.975]</th>  \n",
       "</tr>\n",
       "<tr>\n",
       "  <th>Year</th> <td>    0.0190</td> <td> 9.69e-05</td> <td>  196.066</td> <td> 0.000</td> <td>    0.019</td> <td>    0.019</td>\n",
       "</tr>\n",
       "</table>\n",
       "<table class=\"simpletable\">\n",
       "<tr>\n",
       "  <th>Omnibus:</th>       <td> 0.829</td> <th>  Durbin-Watson:     </th> <td>   0.145</td>\n",
       "</tr>\n",
       "<tr>\n",
       "  <th>Prob(Omnibus):</th> <td> 0.661</td> <th>  Jarque-Bera (JB):  </th> <td>   0.879</td>\n",
       "</tr>\n",
       "<tr>\n",
       "  <th>Skew:</th>          <td>-0.241</td> <th>  Prob(JB):          </th> <td>   0.644</td>\n",
       "</tr>\n",
       "<tr>\n",
       "  <th>Kurtosis:</th>      <td> 2.406</td> <th>  Cond. No.          </th> <td>    1.00</td>\n",
       "</tr>\n",
       "</table><br/><br/>Warnings:<br/>[1] Standard Errors assume that the covariance matrix of the errors is correctly specified."
      ],
      "text/plain": [
       "<class 'statsmodels.iolib.summary.Summary'>\n",
       "\"\"\"\n",
       "                            OLS Regression Results                            \n",
       "==============================================================================\n",
       "Dep. Variable:                  Value   R-squared:                       0.999\n",
       "Model:                            OLS   Adj. R-squared:                  0.999\n",
       "Method:                 Least Squares   F-statistic:                 3.844e+04\n",
       "Date:                Thu, 11 Jun 2020   Prob (F-statistic):           8.08e-55\n",
       "Time:                        23:31:46   Log-Likelihood:                -56.149\n",
       "No. Observations:                  36   AIC:                             114.3\n",
       "Df Residuals:                      35   BIC:                             115.9\n",
       "Df Model:                           1                                         \n",
       "Covariance Type:            nonrobust                                         \n",
       "==============================================================================\n",
       "                 coef    std err          t      P>|t|      [0.025      0.975]\n",
       "------------------------------------------------------------------------------\n",
       "Year           0.0190   9.69e-05    196.066      0.000       0.019       0.019\n",
       "==============================================================================\n",
       "Omnibus:                        0.829   Durbin-Watson:                   0.145\n",
       "Prob(Omnibus):                  0.661   Jarque-Bera (JB):                0.879\n",
       "Skew:                          -0.241   Prob(JB):                        0.644\n",
       "Kurtosis:                       2.406   Cond. No.                         1.00\n",
       "==============================================================================\n",
       "\n",
       "Warnings:\n",
       "[1] Standard Errors assume that the covariance matrix of the errors is correctly specified.\n",
       "\"\"\""
      ]
     },
     "execution_count": 10,
     "metadata": {},
     "output_type": "execute_result"
    }
   ],
   "source": [
    "# X, or the year, is the independent variable, and Y, or the value/proportion of women, is the dependent value.\n",
    "X = df_manage[\"Year\"]\n",
    "y = df_manage[\"Value\"]\n",
    "\n",
    "# this carries out the Ordinary Least Squares analysis\n",
    "model = sm.OLS(y, X).fit()\n",
    "predictions = model.predict(X) # make the predictions by the model\n",
    "\n",
    "# Print out the statistics\n",
    "p = model.params\n",
    "model.summary()\n"
   ]
  },
  {
   "cell_type": "markdown",
   "metadata": {},
   "source": [
    "This table shows the coefficient of this regression to be 0.0190. This means that as the Year variable increases by 1, there will be a 0.0190 increase in the proportion of women in management positions. We can interpret this to mean that the proportion of women in management positions increases by around 1.9% each year. This trend has held steady from the year 2000.\n",
    "\n",
    "Based on this output, we can see that the R-squared value is 0.999, meaning that this model explains 99.9% of the variance in the proportion of women in management positions."
   ]
  },
  {
   "cell_type": "markdown",
   "metadata": {},
   "source": [
    "#### Visualizing Linear Regression"
   ]
  },
  {
   "cell_type": "code",
   "execution_count": 11,
   "metadata": {},
   "outputs": [
    {
     "data": {
      "text/html": [
       "<div>\n",
       "<style scoped>\n",
       "    .dataframe tbody tr th:only-of-type {\n",
       "        vertical-align: middle;\n",
       "    }\n",
       "\n",
       "    .dataframe tbody tr th {\n",
       "        vertical-align: top;\n",
       "    }\n",
       "\n",
       "    .dataframe thead th {\n",
       "        text-align: right;\n",
       "    }\n",
       "</style>\n",
       "<table border=\"1\" class=\"dataframe\">\n",
       "  <thead>\n",
       "    <tr style=\"text-align: right;\">\n",
       "      <th></th>\n",
       "      <th>Year</th>\n",
       "      <th>Value</th>\n",
       "    </tr>\n",
       "  </thead>\n",
       "  <tbody>\n",
       "    <tr>\n",
       "      <th>Year</th>\n",
       "      <td>1.000000</td>\n",
       "      <td>0.955019</td>\n",
       "    </tr>\n",
       "    <tr>\n",
       "      <th>Value</th>\n",
       "      <td>0.955019</td>\n",
       "      <td>1.000000</td>\n",
       "    </tr>\n",
       "  </tbody>\n",
       "</table>\n",
       "</div>"
      ],
      "text/plain": [
       "           Year     Value\n",
       "Year   1.000000  0.955019\n",
       "Value  0.955019  1.000000"
      ]
     },
     "execution_count": 11,
     "metadata": {},
     "output_type": "execute_result"
    }
   ],
   "source": [
    "df = pd.DataFrame(df_manage, columns=['Year', 'Value'])\n",
    "\n",
    "#Check correlation between Year and Value\n",
    "df.corr()\n"
   ]
  },
  {
   "cell_type": "code",
   "execution_count": 19,
   "metadata": {},
   "outputs": [
    {
     "data": {
      "text/plain": [
       "Text(0.5, 0.98, 'Linear Regression for Proportion of Women in Management Over Time')"
      ]
     },
     "execution_count": 19,
     "metadata": {},
     "output_type": "execute_result"
    },
    {
     "data": {
      "image/png": "[encoded data removed]",
      "text/plain": [
       "<Figure size 720x720 with 1 Axes>"
      ]
     },
     "metadata": {},
     "output_type": "display_data"
    }
   ],
   "source": [
    "sns.set_style('whitegrid') \n",
    "lm = sns.lmplot(x='Year', y='Value', data=df_manage)\n",
    "lm.fig.set_size_inches(10,10)\n",
    "g = lm.fig\n",
    "g.suptitle(\"Linear Regression for Proportion of Women in Management Over Time\", fontsize = 18)"
   ]
  },
  {
   "cell_type": "code",
   "execution_count": 20,
   "metadata": {},
   "outputs": [
    {
     "data": {
      "text/plain": [
       "pandas.core.series.Series"
      ]
     },
     "execution_count": 20,
     "metadata": {},
     "output_type": "execute_result"
    }
   ],
   "source": [
    "type(predictions)"
   ]
  },
  {
   "cell_type": "code",
   "execution_count": 21,
   "metadata": {},
   "outputs": [
    {
     "name": "stdout",
     "output_type": "stream",
     "text": [
      "0     37.988587\n",
      "1     37.988587\n",
      "2     38.007581\n",
      "3     38.007581\n",
      "4     38.026576\n",
      "5     38.026576\n",
      "6     38.045570\n",
      "7     38.045570\n",
      "8     38.064564\n",
      "9     38.064564\n",
      "10    38.083559\n",
      "11    38.083559\n",
      "12    38.102553\n",
      "13    38.102553\n",
      "14    38.121547\n",
      "15    38.121547\n",
      "16    38.140542\n",
      "17    38.140542\n",
      "18    38.159536\n",
      "19    38.159536\n",
      "20    38.178530\n",
      "21    38.178530\n",
      "22    38.197524\n",
      "23    38.197524\n",
      "24    38.216519\n",
      "25    38.216519\n",
      "26    38.235513\n",
      "27    38.235513\n",
      "28    38.254507\n",
      "29    38.254507\n",
      "30    38.273502\n",
      "31    38.273502\n",
      "32    38.292496\n",
      "33    38.292496\n",
      "34    38.311490\n",
      "35    38.311490\n"
     ]
    }
   ],
   "source": [
    "print(predictions.to_string())"
   ]
  },
  {
   "cell_type": "markdown",
   "metadata": {},
   "source": [
    "This list of predictions shows the predicted proportion of women in management in the coming years. This is based on the model that we fitted using the Ordinary Least Squares analysis, and shows the results for up to the next 35 years.\n",
    "\n",
    "For example, one way to interpret these predictions would be to say that in 5 years from 2017, or in 2022, the predicted percentage of women in senior and middle management positions would be around 38.03%. This shows the gradual increase in the proportion of women with the passing of time.\n",
    "\n",
    "However, there are some confounding factors that might have contributed to a skewed analaysis of these two variables. This could have been bias in the women that were observed, they might have all been chosen from the same industry, which could have been one that had a higher or lower than average proportion of women in management. Also, the definition of \"management positions\" could have too specific to generalize over an entire workforce of women, or maybe too general.\n",
    "\n",
    "With these preliminary results, I conclude that there has been a steady increase in the proportion of women in the workforce over the last 20 or so years, but there is still a long way to go before women make up 50% of people in management positions."
   ]
  },
  {
   "cell_type": "markdown",
   "metadata": {},
   "source": [
    "## Ethics and Privacy"
   ]
  },
  {
   "cell_type": "markdown",
   "metadata": {},
   "source": [
    "The data that we used was either public and/or licensed, so we had the right to access it. Also, the identity of the participants was not disclosed. If this was an issue in our data, it would have violated the basic confidentiality of the participants, and also violated the basic rules of ethics in data science. We did this using the Safe Harbour Method, which requires that specific identifiers such as telephone numbers, vehicle identifiers, and email addresses are removed from the data. This was somewhat simple to do, since the websites we got our data from were already available for public use. \n",
    "\n",
    "\n",
    "We do acknowledge that there might have been some bias in the maternity leave data from FairyGodBoss,  since it is crowdsourced data and may be inaccurate. There may have also been racial bias within the data that we were not able to detect due to the identities being unknown. Since adding race as a factor might somewhat skew the dataset or show evidence of a confounding variable, we chose to forego this as a variable. The factors we have chosen to identify an ideal work industry were subjective and might not be what others would have considered ideal factors. We acknowledge these biases and keep them in mind before concluding generalizations. \n"
   ]
  },
  {
   "cell_type": "markdown",
   "metadata": {},
   "source": [
    "## Conclusion and Discussion"
   ]
  },
  {
   "cell_type": "markdown",
   "metadata": {},
   "source": [
    "## Team Contributions"
   ]
  },
  {
   "cell_type": "markdown",
   "metadata": {},
   "source": []
  }
 ],
 "metadata": {
  "kernelspec": {
   "display_name": "Python 3",
   "language": "python",
   "name": "python3"
  },
  "language_info": {
   "codemirror_mode": {
    "name": "ipython",
    "version": 3
   },
   "file_extension": ".py",
   "mimetype": "text/x-python",
   "name": "python",
   "nbconvert_exporter": "python",
   "pygments_lexer": "ipython3",
   "version": "3.6.7"
  }
 },
 "nbformat": 4,
 "nbformat_minor": 2
}
